{
  "cells": [
    {
      "cell_type": "markdown",
      "metadata": {
        "nbgrader": {
          "grade": false,
          "locked": true,
          "solution": false
        },
        "id": "g1RHXQTvvMmL"
      },
      "source": [
        "# Problem 21\n",
        "\n",
        "This problem has a single excercise worth a total of three (3) points."
      ]
    },
    {
      "cell_type": "code",
      "execution_count": null,
      "metadata": {
        "id": "pnBFWN53vMmN"
      },
      "outputs": [],
      "source": [
        "import re # You'll need this module"
      ]
    },
    {
      "cell_type": "markdown",
      "metadata": {
        "nbgrader": {
          "grade": false,
          "locked": true,
          "solution": false
        },
        "id": "XS2Yfna2vMmO"
      },
      "source": [
        "**Words.** Given a caption, we want to analyze just the words that appear in the caption.\n",
        "\n",
        "When moving through a string from left-to-right, define each _word_ to be the longest contiguous sequence of alphabetic characters (or just _letters_), _including up to one apostrophe if that apostrophe is sandwiched between two letters_. (An apostrophe is a single quote, `'`.)\n",
        "\n",
        "For instance, consider the string caption,\n",
        "\n",
        "```python\n",
        "\"I'm sorry, sir, but this is a 'gluten-free' restaurant. We don't serve bread.\"\n",
        "```\n",
        "\n",
        "Its words are: `\"I'm\"`, `\"sorry\"`, `\"sir\"`, `\"but\"`, `\"this\"`, `\"is\"`, `\"a\"`, `\"gluten\"`, `\"free\"`, `\"restaurant\"`, `\"we\"`, `\"don't\"`, `\"serve\"`, and `\"bread\"`. Notice that `\"I'm\"` and `\"don't\"` _are_ words, since they include one apostrophe between two letters. However, observe that the substring, `\"'gluten-free'\"` becomes `\"gluten\"` and `\"free\"`: the hyphen (`\"-\"`) is treated as a separator, and the leading and trailing apostrophes do **not** become part of the word.\n",
        "\n",
        "> *Hint*: Heed the definition, \"_... including **up to one** apostrophe if that apostrophe is **sandwiched between two letters**_.\" Consider these two examples:\n",
        ">\n",
        "> ```python\n",
        "  clean(\"'tricky''case'xyz 1\") == ['tricky', \"case'xyz\"]\n",
        "  clean(\"'tricky''case'xyz'two\") == ['tricky', \"case'xyz\", \"two\"]\n",
        "  ```"
      ]
    },
    {
      "cell_type": "markdown",
      "metadata": {
        "nbgrader": {
          "grade": false,
          "locked": true,
          "solution": false
        },
        "id": "UyOV-ZsVvMmO"
      },
      "source": [
        "**Exercise 0** (3 points). Given a string caption, `s`, complete the function, `clean(s)`, so that it does the following:\n",
        "\n",
        "1. Converts `s` to lowercase.\n",
        "2. Returns a list of the words in `s`, defined as above.\n",
        "\n",
        "The list returned must contain the words in the order that they appear in the sentence.\n",
        "\n",
        "For example:\n",
        "\n",
        "```python\n",
        "assert clean(\"Please sir, that's obviously a clip-on.\") \\\n",
        "       == ['please', 'sir', \"that's\", 'obviously', 'a', 'clip', 'on']\n",
        "assert clean(\"I'm sorry, sir, but this is a 'gluten-free' restaurant. We don't serve bread.\") \\\n",
        "       == [\"i'm\", 'sorry', 'sir', 'but', 'this', 'is', 'a', 'gluten', 'free', 'restaurant', 'we', \"don't\", 'serve', 'bread']\n",
        "```\n",
        "\n",
        "> _Hint_: While its use is not required, regular expression processing is a good tool for this problem."
      ]
    },
    {
      "cell_type": "code",
      "execution_count": null,
      "metadata": {
        "id": "530uU0wNvMmP"
      },
      "outputs": [],
      "source": [
        "### Define demo inputs\n",
        "demo_str_ex0_0 = \"Please sir, that's obviously a clip-on.\"\n",
        "demo_str_ex0_1 = \"I'm sorry, sir, but this is a 'gluten-free' restaurant. We don't serve bread.\""
      ]
    },
    {
      "cell_type": "code",
      "execution_count": null,
      "metadata": {
        "nbgrader": {
          "grade": false,
          "locked": false,
          "solution": false
        },
        "id": "EgcGxRjxvMmP",
        "outputId": "3830c9d9-3840-4e27-d111-e9edea247c04"
      },
      "outputs": [
        {
          "name": "stdout",
          "output_type": "stream",
          "text": [
            "['please', 'sir', \"that's\", 'obviously', 'a', 'clip', 'on']\n"
          ]
        }
      ],
      "source": [
        "def clean(s):\n",
        "    ### BEGIN SOLUTION\n",
        "    from re import finditer\n",
        "    pattern = r\"[a-z]+('[a-z])?[a-z]*\"\n",
        "    return [match.group(0) for match in finditer(pattern, s.lower())]\n",
        "    ### END SOLUTION\n",
        "\n",
        "### demo function call\n",
        "print(clean(demo_str_ex0_0))"
      ]
    },
    {
      "cell_type": "code",
      "execution_count": null,
      "metadata": {
        "nbgrader": {
          "grade": true,
          "grade_id": "ex1_clean_a",
          "locked": true,
          "points": "0.5",
          "solution": false
        },
        "id": "gpwhpp6rvMmQ",
        "outputId": "c4dfd0ac-46c7-4ad6-c919-b11230125dd5"
      },
      "outputs": [
        {
          "name": "stdout",
          "output_type": "stream",
          "text": [
            "\n",
            "(Passed!)\n"
          ]
        }
      ],
      "source": [
        "# Test cell: `ex0_clean_a` (0.5 points)\n",
        "\n",
        "# Caption 123:\n",
        "assert clean(\"Please sir, that's obviously a clip-on.\") \\\n",
        "       == ['please', 'sir', \"that's\", 'obviously', 'a', 'clip', 'on']\n",
        "\n",
        "# Caption 314:\n",
        "assert clean(\"I'm sorry, sir, but this is a 'gluten-free' restaurant. We don't serve bread.\") \\\n",
        "       == [\"i'm\", 'sorry', 'sir', 'but', 'this', 'is', 'a', 'gluten', 'free', 'restaurant', 'we', \"don't\", 'serve', 'bread']\n",
        "\n",
        "# Some other tricky cases!\n",
        "assert clean(\"'tricky''case'xyz 1\") == ['tricky', \"case'xyz\"]\n",
        "assert clean(\"'tricky''case'xyz'two\") == ['tricky', \"case'xyz\", \"two\"]\n",
        "\n",
        "print(\"\\n(Passed!)\")"
      ]
    },
    {
      "cell_type": "code",
      "execution_count": null,
      "metadata": {
        "nbgrader": {
          "grade": true,
          "grade_id": "ex1_clean_b",
          "locked": true,
          "points": "2.5",
          "solution": false
        },
        "id": "i1AZw0aWvMmQ",
        "outputId": "d8f17129-65a9-4640-c9e3-3bc92abcc0a8"
      },
      "outputs": [
        {
          "name": "stdout",
          "output_type": "stream",
          "text": [
            "Testing 100 randomly generated cases...\n",
            "\n",
            "(Passed!)\n"
          ]
        }
      ],
      "source": [
        "# Test cell: `ex1_clean_b` (2.5 points)\n",
        "def ex1_gen_case__(n, m, s):\n",
        "    assert n >= 1 and m >= 1 and s >= 1\n",
        "    from random import randint, random, choice\n",
        "    def rand_char(): return chr(ord('a') + randint(0, 25))\n",
        "    def rand_upper(c): return c.upper() if random() <= 0.1 else c\n",
        "    def rand_chars():\n",
        "        m0 = randint(1, m)\n",
        "        return ''.join([rand_upper(rand_char()) for _ in range(m0)])\n",
        "    def rand_word():\n",
        "        a = rand_chars()\n",
        "        if random() <= 0.1:\n",
        "            a += \"'\" + rand_chars()\n",
        "        return a\n",
        "    def rand_spaces(): return ''.join([choice(' \\t\\n') for _ in range(randint(1, s))])\n",
        "    def rand_quote(): return \"'\" if random() <= 0.1 else \"\"\n",
        "    def rand_punc(): return choice(r'`~!@#$%^&*()-_=+{[]}|;:\"<>,.?/\\'') if random() <= 0.1 else \"\"\n",
        "    soln = []\n",
        "    for k in range(randint(1, n)):\n",
        "        if len(soln) == 0:\n",
        "            x = rand_spaces() if random() <= 0.2 else rand_quote()\n",
        "        else:\n",
        "            x += rand_spaces() + rand_quote()\n",
        "        w = rand_word()\n",
        "        soln.append(w.lower())\n",
        "        x += w\n",
        "        x += rand_quote() + rand_punc()\n",
        "    return x, soln\n",
        "\n",
        "def ex1_check_case__(n, m, s, verbose=False):\n",
        "    x, soln = ex1_gen_case__(n, m, s)\n",
        "    your_soln = clean(x)\n",
        "    matches = (your_soln == soln)\n",
        "    if verbose or (not matches):\n",
        "        print(\"- Input:\", repr(x))\n",
        "        print(\"- Expected solution:\", soln)\n",
        "        print(\"- Your solution:\", your_soln)\n",
        "        assert matches, \"*** Failed on a random test case: see above ***\"\n",
        "\n",
        "print(\"Testing 100 randomly generated cases...\")\n",
        "for _ in range(100):\n",
        "    ex1_check_case__(10, 8, 3)\n",
        "\n",
        "print(\"\\n(Passed!)\")"
      ]
    },
    {
      "cell_type": "markdown",
      "metadata": {
        "nbgrader": {
          "grade": false,
          "locked": true,
          "solution": false
        },
        "id": "wGkrx7pbvMmQ"
      },
      "source": [
        "**Fin!** You’ve reached the end of this part. Don’t forget to restart and run all cells again to make sure it’s all working when run in sequence; and make sure your work passes the submission process. Good luck!"
      ]
    }
  ],
  "metadata": {
    "kernelspec": {
      "display_name": "Python 3 (ipykernel)",
      "language": "python",
      "name": "python3"
    },
    "language_info": {
      "codemirror_mode": {
        "name": "ipython",
        "version": 3
      },
      "file_extension": ".py",
      "mimetype": "text/x-python",
      "name": "python",
      "nbconvert_exporter": "python",
      "pygments_lexer": "ipython3",
      "version": "3.9.5"
    },
    "colab": {
      "provenance": []
    }
  },
  "nbformat": 4,
  "nbformat_minor": 0
}