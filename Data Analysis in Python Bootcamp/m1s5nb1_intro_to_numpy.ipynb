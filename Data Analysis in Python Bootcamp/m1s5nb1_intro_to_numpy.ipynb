{
  "cells": [
    {
      "cell_type": "markdown",
      "id": "ea5d8b7b",
      "metadata": {
        "id": "ea5d8b7b"
      },
      "source": [
        "## We're going to do a high level introduction to numpy.\n",
        "\n",
        "#### This does not take the place of the material in the week's lesson videos. It is intended to supplement that material with some additional coverage and insights."
      ]
    },
    {
      "cell_type": "markdown",
      "id": "066065cc",
      "metadata": {
        "id": "066065cc"
      },
      "source": [
        "#### First, let's import the numpy library and check the version."
      ]
    },
    {
      "cell_type": "code",
      "execution_count": null,
      "id": "2c7f0574",
      "metadata": {
        "id": "2c7f0574"
      },
      "outputs": [],
      "source": [
        "import numpy as np\n",
        "np.__version__"
      ]
    },
    {
      "cell_type": "markdown",
      "id": "bd9a1b52",
      "metadata": {
        "id": "bd9a1b52"
      },
      "source": [
        "## Remember to use the built in documentation\n",
        "\n",
        "#### For example, to display all the contents of the numpy namespace, you can type this:\n",
        "\n",
        "In [1]: np.<TAB>\n",
        "    \n",
        "#### And to display NumPy's built-in documentation, you can use this:\n",
        "\n",
        "In [2]: np?"
      ]
    },
    {
      "cell_type": "code",
      "execution_count": null,
      "id": "8af58b2a",
      "metadata": {
        "id": "8af58b2a"
      },
      "outputs": [],
      "source": [
        "# np.sin()\n",
        "# <tab>\n",
        "# np?"
      ]
    },
    {
      "cell_type": "markdown",
      "id": "d8ea4492",
      "metadata": {
        "id": "d8ea4492"
      },
      "source": [
        "### This week's first video discusses the speed advantage that numpy arrays provide over the native Python data types. To understand this, let's take a look at each, \"under the covers\".\n",
        "\n",
        "The below is adapted from \"The Python Data Science Handbook\", by Jake Vanderplas."
      ]
    },
    {
      "cell_type": "markdown",
      "id": "64453e2b",
      "metadata": {
        "id": "64453e2b"
      },
      "source": [
        "Python is a dynamically-typed language. What that means is that you do not have to explicitly declare the type of your variable (integer, string, etc) at the time you declare or populate it.\n",
        "\n",
        "For example, in C you might specify a particular operation as follows:\n",
        "\n",
        "```C\n",
        "/* C code */\n",
        "int result = 0;   # notice that the variable \"result\" is declared as an integer\n",
        "for(int i=0; i<100; i++){\n",
        "    result += i;\n",
        "}\n",
        "```\n",
        "\n",
        "While in Python the equivalent operation could be written this way:\n",
        "\n",
        "```python\n",
        "# Python code\n",
        "result = 0\n",
        "for i in range(100):\n",
        "    result += i\n",
        "```\n",
        "\n",
        "Notice the main difference: in C, the data types of each variable are explicitly declared, while in Python the types are dynamically inferred. This means, for example, that we can assign any kind of data to any variable:\n",
        "\n",
        "```python\n",
        "# Python code\n",
        "x = 4\n",
        "x = \"four\"\n",
        "```\n",
        "\n",
        "Here we've switched the contents of ``x`` from an integer to a string. The same thing in C would lead (depending on compiler settings) to a compilation error or other unintented consequences:\n",
        "\n",
        "```C\n",
        "/* C code */\n",
        "int x = 4;\n",
        "x = \"four\";  // FAILS\n",
        "```\n",
        "\n",
        "This sort of flexibility is one piece that makes Python and other dynamically-typed languages convenient and easy to use.\n",
        "\n",
        "Understanding *how* this works is an important piece of learning to analyze data efficiently and effectively with Python.\n",
        "\n",
        "### But what this type-flexibility also points to is the fact that Python variables are more than just their value; they also contain extra information about the type of the value."
      ]
    },
    {
      "cell_type": "markdown",
      "id": "58bfab90",
      "metadata": {
        "id": "58bfab90"
      },
      "source": [
        "### Let's look at an integer data type in Python and C.\n",
        "\n",
        "The standard Python implementation is written in C. So every function that you are calling in Python is actually running C code to implement.\n",
        "\n",
        "This means that every Python object is simply a wrapper around a C structure, containing not only its value, but other information as well.\n",
        "\n",
        "A single integer in Python actually contains four pieces, in the underlying C code:\n",
        "\n",
        "- ``ob_refcnt``, a reference count that helps Python silently handle memory allocation and deallocation\n",
        "- ``ob_type``, which encodes the type of the variable\n",
        "- ``ob_size``, which specifies the size of the following data members\n",
        "- ``ob_digit``, which contains the actual integer value that we expect the Python variable to represent.\n",
        "\n",
        "This means that there is some overhead in storing an integer in Python as compared to an integer in a compiled language like C."
      ]
    },
    {
      "cell_type": "markdown",
      "id": "c0161383",
      "metadata": {
        "id": "c0161383"
      },
      "source": [
        "![cint_vs_pyint.png](https://github.com/gt-cse-6040/bootcamp/blob/main/Module%201/Session%205/cint_vs_pyint.png?raw=1)"
      ]
    },
    {
      "cell_type": "markdown",
      "id": "9edb4f4d",
      "metadata": {
        "id": "9edb4f4d"
      },
      "source": [
        "Here ``PyObject_HEAD`` is the part of the structure containing the reference count, type code, and other pieces mentioned before.\n",
        "\n",
        "Notice the difference here: a C integer is essentially a label for a position in memory whose bytes encode an integer value.\n",
        "\n",
        "A Python integer is a pointer to a position in memory containing all the Python object information, including the bytes that contain the integer value.\n",
        "This extra information in the Python integer structure is what allows Python to be coded so freely and dynamically.\n",
        "\n",
        "All this additional information in Python types comes at a cost, however, which becomes especially apparent in structures that combine many of these objects."
      ]
    },
    {
      "cell_type": "markdown",
      "id": "639f6151",
      "metadata": {
        "id": "639f6151"
      },
      "source": [
        "### Now let's understand what that means from a performance perspective.\n",
        "\n",
        "Let's consider now what happens when we use a Python data structure that holds many Python objects.\n",
        "\n",
        "A normal mutable multi-element container in Python is the list."
      ]
    },
    {
      "cell_type": "code",
      "execution_count": null,
      "id": "a529c215",
      "metadata": {
        "id": "a529c215"
      },
      "outputs": [],
      "source": [
        "# create a list of all of the same data types\n",
        "my_list = list(range(10))\n",
        "print(my_list)\n",
        "print(type(my_list[0]))"
      ]
    },
    {
      "cell_type": "code",
      "execution_count": null,
      "id": "4883bb16",
      "metadata": {
        "id": "4883bb16"
      },
      "outputs": [],
      "source": [
        "# Now let's create a heterogenous list\n",
        "my_list_2 = [11, True, \"19\", 7.0]\n",
        "[type(item) for item in my_list_2]"
      ]
    },
    {
      "cell_type": "markdown",
      "id": "3807c3e8",
      "metadata": {
        "id": "3807c3e8"
      },
      "source": [
        "But this flexibility and coding efficiency comes at a cost: to allow these flexible types, each item in the list must contain its own type info, reference count, and other information–that is, each item is a complete Python object.\n",
        "\n",
        "#### In the special case that all variables are of the same type, much of this information is redundant: it can be much more efficient to store data in a fixed-type array.\n",
        "\n",
        "#### The difference between a dynamic-type list and a fixed-type (numPy-style) array is illustrated in the following figure:"
      ]
    },
    {
      "cell_type": "markdown",
      "id": "01adac99",
      "metadata": {
        "id": "01adac99"
      },
      "source": [
        "![array_vs_list.png](https://github.com/gt-cse-6040/bootcamp/blob/main/Module%201/Session%205/array_vs_list.png?raw=1)"
      ]
    },
    {
      "cell_type": "markdown",
      "id": "f410f2d0",
      "metadata": {
        "id": "f410f2d0"
      },
      "source": [
        "### So what happens when you do an operation on the two data structures is as follows (note that this is a simplification):\n",
        "\n",
        "#### For the Python list:\n",
        "\n",
        "a. For each element in the list:\n",
        "    \n",
        "    1. Read the header information\n",
        "    \n",
        "    2. Determine the underlying data type\n",
        "    \n",
        "    3. Call the appropriate operation for that data type\n",
        "   \n",
        "    4. Read the actual data\n",
        "    \n",
        "    5. Perform the operation and return the result\n",
        "    \n",
        "#### For the numpy array:\n",
        "\n",
        "a. Read the header information\n",
        "\n",
        "b. Determine the underlying data type\n",
        "\n",
        "c. Call the appropriate operation for that data type\n",
        "\n",
        "d. For each element in the list:\n",
        "    \n",
        "    1. Read the actual data\n",
        "    \n",
        "    2. Perform the operation and return the result\n",
        "    \n",
        "#### Note that for the Python data type, the program must do the full discovery process for each data element, while for the numpy array, it only does that once.\n",
        "\n",
        "#### The implementation takeaway is that, if all of my data is of the same type, then it makes sense for better performance to use a numpy array, versus a native Python data type."
      ]
    },
    {
      "cell_type": "markdown",
      "id": "3a4b2979",
      "metadata": {
        "id": "3a4b2979"
      },
      "source": [
        "We are not going to demonstrate the speed differences, as you get a great example of that in **NB10, Part 0.**\n",
        "\n",
        "Additionally, there is some excellent material in **NB10, Part 1** getting a little deeper into numpy functionality."
      ]
    },
    {
      "cell_type": "markdown",
      "id": "e688b158",
      "metadata": {
        "id": "e688b158"
      },
      "source": [
        "### Some useful numpy array attributes"
      ]
    },
    {
      "cell_type": "code",
      "execution_count": null,
      "id": "0717d9f8",
      "metadata": {
        "id": "0717d9f8"
      },
      "outputs": [],
      "source": [
        "arr_1 = np.random.randint(10, size=68)  # One-dimensional array\n",
        "arr_2 = np.random.randint(10, size=(3, 4))  # Two-dimensional array\n",
        "arr_3 = np.random.randint(10, size=(3, 4, 5))  # Three-dimensional array, default int data type for OS\n",
        "\n",
        "arr_4 = np.random.randint(10, size=(3, 4, 5),dtype=np.int64) # specify the data type"
      ]
    },
    {
      "cell_type": "markdown",
      "id": "4719faea",
      "metadata": {
        "id": "4719faea"
      },
      "source": [
        "Each array has attributes ndim (the number of dimensions), shape (the size of each dimension), and size (the total size of the array).\n",
        "\n",
        "We also have the attribute is the ``dtype``, the data type of the array."
      ]
    },
    {
      "cell_type": "code",
      "execution_count": null,
      "id": "64294e26",
      "metadata": {
        "id": "64294e26"
      },
      "outputs": [],
      "source": [
        "print(\"arr_3 ndim: \", arr_3.ndim)\n",
        "print(\"arr_3 shape:\", arr_3.shape)\n",
        "print(\"arr_3 size: \", arr_3.size)\n",
        "print(\"dtype:\", arr_3.dtype)\n",
        "print(\"dtype:\", arr_4.dtype)"
      ]
    },
    {
      "cell_type": "markdown",
      "id": "1743be52",
      "metadata": {
        "id": "1743be52"
      },
      "source": [
        "### Loops and Vector Operations\n",
        "\n",
        "In a loop, we specifically tell Python to perform an operation on each data element.\n",
        "\n",
        "Note that we have emphasized loops in these Skills OH sessions. While we recognize that looping is much slower, we feel that explicitly writing out the loops (in the beginning) helps you to better understand the underlying programming logic.\n",
        "\n",
        "In a vector operation, we tell Python to perform the same operation on the entire dataset at once. This is similar (but not identical) to the list and dictionary comprehensions that we learned about in Module 1.\n",
        "\n",
        "The relative sluggishness of Python generally manifests itself in situations where many small operations are being repeated – for instance looping over arrays to operate on each element.\n",
        "\n",
        "For example, imagine we have an array of values and we'd like to compute the reciprocal of each. A straightforward approach might look like this:"
      ]
    },
    {
      "cell_type": "code",
      "execution_count": null,
      "id": "40a76dba",
      "metadata": {
        "id": "40a76dba"
      },
      "outputs": [],
      "source": [
        "np.random.seed(0)  #set the seed to reproduce the results\n",
        "\n",
        "def compute_reciprocals(values):\n",
        "    output = np.empty(len(values))\n",
        "    for i in range(len(values)):\n",
        "        output[i] = 1.0 / values[i]\n",
        "    return output\n",
        "\n",
        "values = np.random.randint(1, 10, size=5)\n",
        "compute_reciprocals(values)"
      ]
    },
    {
      "cell_type": "code",
      "execution_count": null,
      "id": "3139362b",
      "metadata": {
        "id": "3139362b"
      },
      "outputs": [],
      "source": [
        "big_array = np.random.randint(1, 100, size=100000)\n",
        "%timeit compute_reciprocals(big_array)"
      ]
    },
    {
      "cell_type": "markdown",
      "id": "05bc739b",
      "metadata": {
        "id": "05bc739b"
      },
      "source": [
        "#### Now let's do this as a vector operation:\n",
        "\n",
        "Note that we only call the function once, and it performs the operation on every element of the numpy array, without the need to loop.\n",
        "\n",
        "Those of you coming from a programming background in R should recognize what we are doing here."
      ]
    },
    {
      "cell_type": "code",
      "execution_count": null,
      "id": "0e40cfc4",
      "metadata": {
        "id": "0e40cfc4"
      },
      "outputs": [],
      "source": [
        "# to show that we get the same results\n",
        "print(compute_reciprocals(values))\n",
        "print(1.0 / values)"
      ]
    },
    {
      "cell_type": "code",
      "execution_count": null,
      "id": "cb1a2f4c",
      "metadata": {
        "id": "cb1a2f4c"
      },
      "outputs": [],
      "source": [
        "big_array = np.random.randint(1, 100, size=100000)\n",
        "%timeit (1.0 / big_array)"
      ]
    },
    {
      "cell_type": "markdown",
      "id": "6681db96",
      "metadata": {
        "id": "6681db96"
      },
      "source": [
        "#### Bottom line, yes, it is faster, but we also do it in a single line of code. That is the essence of vector operations."
      ]
    },
    {
      "cell_type": "markdown",
      "id": "c110674c",
      "metadata": {
        "id": "c110674c"
      },
      "source": [
        "### The numpy user guide documentation online is a FANTASTIC reference, with many good reference pages, from beginner to advanced.\n",
        "\n",
        "#### We cannot recommend this highly enough, for you all to take some time going through.\n",
        "\n",
        "https://numpy.org/doc/stable/user/index.html\n",
        "\n",
        "#### Additionally, the numpy API reference has a page for every function, containing the function definition and example code for how to use.\n",
        "\n",
        "https://numpy.org/doc/stable/reference/index.html"
      ]
    },
    {
      "cell_type": "markdown",
      "id": "9b892e8e",
      "metadata": {
        "id": "9b892e8e"
      },
      "source": [
        "### Finally, the numpy tutorials online have many useful walk throughs, including at least one that may be useful to you between now and the semester's end.\n",
        "\n",
        "#### We cannot recommend this highly enough, for you all to take some time going through.\n",
        "\n",
        "https://numpy.org/numpy-tutorials/index.html\n",
        "\n",
        "https://numpy.org/numpy-tutorials/content/tutorial-svd.html  # might be useful\n"
      ]
    },
    {
      "cell_type": "markdown",
      "id": "3a98373d",
      "metadata": {
        "id": "3a98373d"
      },
      "source": [
        "### Finally, another excellent and easy to follow online reference is the book that we noted above, \"The Python Data Science Handbook\" by Jake Vanderplas.\n",
        "\n",
        "The book and all of its contents are posted online, and each chapter is done through a series of Jupyter notebooks that are available on Github and Google Colab.\n",
        "\n",
        "#### Online version of the book on Github:  https://github.com/jakevdp/PythonDataScienceHandbook\n",
        "\n",
        "You can download the code from Github as a zip file or work through the notebooks using Google Colab."
      ]
    },
    {
      "cell_type": "markdown",
      "id": "baa6d704",
      "metadata": {
        "id": "baa6d704"
      },
      "source": [
        "**Below are two links to the numpy chapter of the book, the first is the HTML, and the second in Colab. Highly recommended:**\n",
        "\n",
        "https://jakevdp.github.io/PythonDataScienceHandbook/02.00-introduction-to-numpy.html\n",
        "\n",
        "https://colab.research.google.com/github/jakevdp/PythonDataScienceHandbook/blob/master/notebooks/02.00-Introduction-to-NumPy.ipynb"
      ]
    },
    {
      "cell_type": "code",
      "execution_count": null,
      "id": "5a64d353",
      "metadata": {
        "id": "5a64d353"
      },
      "outputs": [],
      "source": []
    }
  ],
  "metadata": {
    "kernelspec": {
      "display_name": "Python 3 (ipykernel)",
      "language": "python",
      "name": "python3"
    },
    "language_info": {
      "codemirror_mode": {
        "name": "ipython",
        "version": 3
      },
      "file_extension": ".py",
      "mimetype": "text/x-python",
      "name": "python",
      "nbconvert_exporter": "python",
      "pygments_lexer": "ipython3",
      "version": "3.9.13"
    },
    "colab": {
      "provenance": []
    }
  },
  "nbformat": 4,
  "nbformat_minor": 5
}