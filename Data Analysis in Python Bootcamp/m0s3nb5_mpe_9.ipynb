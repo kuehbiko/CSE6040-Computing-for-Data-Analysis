{
  "cells": [
    {
      "cell_type": "markdown",
      "metadata": {
        "id": "han_zldoyZEu"
      },
      "source": [
        "# Problem 9\n",
        "\n",
        "This problem consists of a single exercise worth ten (10) points."
      ]
    },
    {
      "cell_type": "markdown",
      "metadata": {
        "id": "5mBVfjYmyZEx"
      },
      "source": [
        "**Exercise 0** (10 points): Write a funtion, `digitize(n)`, that, given a postive number `n`, returns the digits of `n` as the integer elements of a list in reversed order.\n",
        "\n",
        "For example:\n",
        "\n",
        "```python\n",
        "    assert digitize(1345328) == [8, 2, 3, 5, 4, 3, 1]\n",
        "```"
      ]
    },
    {
      "cell_type": "code",
      "execution_count": null,
      "metadata": {
        "id": "2_yd4DjpyZEz"
      },
      "outputs": [],
      "source": [
        "def digitize(n):\n",
        "    assert n > 0, '`n` is not a positive number'\n",
        "    assert type(n) is int, '`n` must be an `int`'\n",
        "    ### YOUR CODE HERE\n",
        "\n",
        "#     GOAL\n",
        "#         Reverse the order of the digits of a number, and return a list of the digits in the reversed order.\n",
        "\n",
        "#     INPUT\n",
        "#             A positive number with any number of digits (no digit separators)\n",
        "\n",
        "#     STRATEGY\n",
        "#             Note that the requirments of being a positive integer are already done in the asserts\n",
        "#             Convert the integer to a string\n",
        "#             Two ways of doing this:\n",
        "#                  1. Reverse the string\n",
        "#                  2. Convert the string to a list\n",
        "#                  3. Convert the individual elements in the list to from strings to integers\n",
        "\n",
        "#                  a. Convert the string to a list\n",
        "#                  b. Reverse the list\n",
        "#                  c.\n",
        "#             Return the reversed string\n",
        "\n",
        "#     SOLUTION\n",
        "\n",
        "    # create the list to return\n",
        "    return_list = []\n",
        "    # convert the integer to a string\n",
        "    str_n = str(n)\n",
        "\n",
        "    # ****************\n",
        "    # reverse the string, then make it a list\n",
        "    # ******************\n",
        "    # reverse the string\n",
        "    reverse_str = str_n[::-1]\n",
        "#     print(reverse_string)\n",
        "    # convert to list\n",
        "    reverse_list = list(reverse_str)\n",
        "#     print(reverse_list)\n",
        "    # ****************\n",
        "\n",
        "#     # ****************\n",
        "#     # make the string a list, then reverse the list\n",
        "#     # convert the string to a list\n",
        "#     reverse_list = list(str_n)\n",
        "#     # reverse the list\n",
        "#     reverse_list.reverse()\n",
        "# # #     print(reverse_list)\n",
        "#     # ****************\n",
        "\n",
        "#     loop over the list to convert each element to integer\n",
        "    for i in range(0, len(reverse_list)):\n",
        "        return_list.append(int(reverse_list[i]))\n",
        "\n",
        "    return return_list"
      ]
    },
    {
      "cell_type": "code",
      "execution_count": null,
      "metadata": {
        "nbgrader": {
          "grade": true,
          "grade_id": "test_digitize",
          "locked": true,
          "points": "10",
          "solution": false
        },
        "id": "Ewl6jwKQyZE0"
      },
      "outputs": [],
      "source": [
        "# Test_cell: test_digitize\n",
        "\n",
        "assert digitize(1345328) == [8, 2, 3, 5, 4, 3, 1], 'Wrong output. Make sure your function returns the digits in reverse order'\n",
        "print(\"\\n(Passed!)\")"
      ]
    },
    {
      "cell_type": "markdown",
      "metadata": {
        "collapsed": true,
        "id": "vPflJh6_yZE0"
      },
      "source": [
        "**Fin!** You've reached the end of this problem. Don't forget to restart the\n",
        "kernel and run the entire notebook from top-to-bottom to make sure you did\n",
        "everything correctly. If that is working, try submitting this problem. (Recall\n",
        "that you *must* submit and pass the autograder to get credit for your work!)"
      ]
    }
  ],
  "metadata": {
    "kernelspec": {
      "display_name": "Python 3 (ipykernel)",
      "language": "python",
      "name": "python3"
    },
    "language_info": {
      "codemirror_mode": {
        "name": "ipython",
        "version": 3
      },
      "file_extension": ".py",
      "mimetype": "text/x-python",
      "name": "python",
      "nbconvert_exporter": "python",
      "pygments_lexer": "ipython3",
      "version": "3.9.13"
    },
    "colab": {
      "provenance": []
    }
  },
  "nbformat": 4,
  "nbformat_minor": 0
}