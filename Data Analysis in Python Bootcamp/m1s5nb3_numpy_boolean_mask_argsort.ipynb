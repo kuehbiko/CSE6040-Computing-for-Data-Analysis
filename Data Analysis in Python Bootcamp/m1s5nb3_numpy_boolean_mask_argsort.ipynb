{
  "cells": [
    {
      "cell_type": "markdown",
      "id": "0acde91d",
      "metadata": {
        "id": "0acde91d"
      },
      "source": [
        "# Numpy Boolean Masks and argsort()"
      ]
    },
    {
      "cell_type": "code",
      "execution_count": null,
      "id": "1c9e9523",
      "metadata": {
        "id": "1c9e9523"
      },
      "outputs": [],
      "source": [
        "import numpy as np"
      ]
    },
    {
      "cell_type": "markdown",
      "id": "9f991718",
      "metadata": {
        "id": "9f991718"
      },
      "source": [
        "### Why are we covering these two topics?\n",
        "\n",
        "#### Historically, students have had difficulty understanding these two concepts when asked to use them in homework and exam exercises. So we introduce them here, to help with that understanding. We will not be doing complex exercises here, but simply introducing the concepts."
      ]
    },
    {
      "cell_type": "markdown",
      "id": "079ca192",
      "metadata": {
        "id": "079ca192"
      },
      "source": [
        "# Numpy boolean masks"
      ]
    },
    {
      "cell_type": "markdown",
      "id": "e74cb74e",
      "metadata": {
        "id": "e74cb74e"
      },
      "source": [
        "### What is a boolean mask?\n",
        "\n",
        "**In pandas, as we saw earlier, a mask is used filter and return only the rows that meet a certain condition.**\n",
        "\n",
        "**In numpy however, a mask creates a \"truth array\" of the same shape as the source array being compared.**\n",
        "\n",
        "**Each element in the \"truth array\" will have a value of either `True` or `False`, depending on the result of the comparison on that element in the source array.**\n",
        "\n",
        "**You can then use the truth array to filter/select only the source array elements that you need in your exercise.**"
      ]
    },
    {
      "cell_type": "code",
      "execution_count": null,
      "id": "8e615152",
      "metadata": {
        "id": "8e615152"
      },
      "outputs": [],
      "source": [
        "# create two 2x2 numpy arrays\n",
        "a = np.random.randint(0,10,(3,3))\n",
        "display(a)"
      ]
    },
    {
      "cell_type": "code",
      "execution_count": null,
      "id": "679ed47a",
      "metadata": {
        "id": "679ed47a"
      },
      "outputs": [],
      "source": [
        "a < 5"
      ]
    },
    {
      "cell_type": "code",
      "execution_count": null,
      "id": "91d147c7",
      "metadata": {
        "id": "91d147c7"
      },
      "outputs": [],
      "source": [
        "# using parentheses for readability\n",
        "truth_less_than_five = (a < 5)\n",
        "display(truth_less_than_five)\n",
        "display(truth_less_than_five.dtype)"
      ]
    },
    {
      "cell_type": "code",
      "execution_count": null,
      "id": "31eebe75",
      "metadata": {
        "id": "31eebe75"
      },
      "outputs": [],
      "source": [
        "# using parentheses for readability\n",
        "truth_greater_equal_five = (a >= 5)\n",
        "display(truth_greater_equal_five)\n",
        "display(truth_greater_equal_five.dtype)"
      ]
    },
    {
      "cell_type": "markdown",
      "id": "884a7ed2",
      "metadata": {
        "id": "884a7ed2"
      },
      "source": [
        "Now to select these values from the array, we can simply index on this Boolean array; this is known as a masking operation:"
      ]
    },
    {
      "cell_type": "code",
      "execution_count": null,
      "id": "1a35c716",
      "metadata": {
        "id": "1a35c716"
      },
      "outputs": [],
      "source": [
        "a[a < 5]"
      ]
    },
    {
      "cell_type": "code",
      "execution_count": null,
      "id": "cd3dec44",
      "metadata": {
        "id": "cd3dec44"
      },
      "outputs": [],
      "source": [
        "a[truth_less_than_five]"
      ]
    },
    {
      "cell_type": "markdown",
      "id": "33ea6a5a",
      "metadata": {
        "id": "33ea6a5a"
      },
      "source": [
        "What is returned is a one-dimensional array filled with all the values that meet this condition; in other words, all the values in positions at which the mask array is `True`.\n",
        "\n",
        "**We can then use these values as required in the exercise. This is the key takeaway here. When we want to filter/return only the values that meet some criteria, we want to use a Boolean Mask to do so.**"
      ]
    },
    {
      "cell_type": "markdown",
      "id": "235d9092",
      "metadata": {
        "id": "235d9092"
      },
      "source": [
        "**You will see applications of this in the homework notebooks and sample/practice midterm and final exam notebooks.**"
      ]
    },
    {
      "cell_type": "markdown",
      "id": "ffd98d10",
      "metadata": {
        "id": "ffd98d10"
      },
      "source": [
        "The numpy documentation has an excellent reference on the logic and functions you can use when applying Boolean Masks:  https://numpy.org/doc/stable/reference/routines.logic.html\n",
        "\n",
        "As noted previously, Vanderplas has a good introduction to Boolean Masks in his book:  https://jakevdp.github.io/PythonDataScienceHandbook/02.06-boolean-arrays-and-masks.html"
      ]
    },
    {
      "cell_type": "markdown",
      "id": "aa86e53c",
      "metadata": {
        "id": "aa86e53c"
      },
      "source": [
        "### What are your questions on Boolean Masks?"
      ]
    },
    {
      "cell_type": "markdown",
      "id": "4dcaec59",
      "metadata": {
        "id": "4dcaec59"
      },
      "source": [
        "# argsort() function\n",
        "\n",
        "Documentation link:  https://numpy.org/doc/stable/reference/generated/numpy.argsort.html"
      ]
    },
    {
      "cell_type": "markdown",
      "id": "d0c76ab3",
      "metadata": {
        "id": "d0c76ab3"
      },
      "source": [
        "### The np.argsort() function is used to return the indices that would sort an array.\n",
        "\n",
        "#### So the function returns an array of indexes of the same shape as `a` that index data along the given axis in sorted order (from the documentation)."
      ]
    },
    {
      "cell_type": "markdown",
      "id": "cd738c57",
      "metadata": {
        "id": "cd738c57"
      },
      "source": [
        "OK, so what does this mean, in practice?\n",
        "\n",
        "The function will return an integer array, with the same shape as the source array, with the values being the index locations of the sorted source array values. The returned array does not sort the values themselves, but it gives us what the order of the sorted values would be.\n",
        "\n",
        "Let's look at a simple example for understanding."
      ]
    },
    {
      "cell_type": "code",
      "execution_count": null,
      "id": "6fc6d43c",
      "metadata": {
        "id": "6fc6d43c"
      },
      "outputs": [],
      "source": [
        "a = np.array([5, 3, 2, 0, 1, 4])\n",
        "np.argsort(a)"
      ]
    },
    {
      "cell_type": "markdown",
      "id": "d1e894fe",
      "metadata": {
        "id": "d1e894fe"
      },
      "source": [
        "OK, so what is this array telling us?\n",
        "\n",
        "1. The element at index = 3 is the first element in the sorted order (0 is the lowest value).\n",
        "2. The element at index = 4 is the second element in the sorted order (1 is the next lowest value).\n",
        "3. The element at index = 2 is the third element in the sorted order (2 is the next lowest value).\n",
        ".......\n",
        "4. The element at index = 0 is the largest element in the sorted order (5 is the highest value)."
      ]
    },
    {
      "cell_type": "markdown",
      "id": "03a73098",
      "metadata": {
        "id": "03a73098"
      },
      "source": [
        "Does it sort float values in the same manner?"
      ]
    },
    {
      "cell_type": "code",
      "execution_count": null,
      "id": "7032437c",
      "metadata": {
        "id": "7032437c"
      },
      "outputs": [],
      "source": [
        "b = np.array([5.0, 3.0, 2.0, 0.0, 1.0, 4.0])\n",
        "np.argsort(b)"
      ]
    },
    {
      "cell_type": "markdown",
      "id": "0a833cf4",
      "metadata": {
        "id": "0a833cf4"
      },
      "source": [
        "What about strings?"
      ]
    },
    {
      "cell_type": "code",
      "execution_count": null,
      "id": "039ca3fa",
      "metadata": {
        "id": "039ca3fa"
      },
      "outputs": [],
      "source": [
        "c = np.array(['p','m','x','h','a','t'])\n",
        "np.argsort(c)"
      ]
    },
    {
      "cell_type": "markdown",
      "id": "1f72a3e4",
      "metadata": {
        "id": "1f72a3e4"
      },
      "source": [
        "Now let's look at a simple example. While this may seem fairly straightforward, conceptually, this is the types of exercise that you will see in the homework notebooks and on the exams."
      ]
    },
    {
      "cell_type": "markdown",
      "id": "adb2b4c7",
      "metadata": {
        "id": "adb2b4c7"
      },
      "source": [
        "**Requirement:**\n",
        "\n",
        "What are the three largest values in an array?\n",
        "\n",
        "Return a numpy array with these three values."
      ]
    },
    {
      "cell_type": "code",
      "execution_count": null,
      "id": "f054ff23",
      "metadata": {
        "id": "f054ff23"
      },
      "outputs": [],
      "source": [
        "# intialize an array\n",
        "a = np.array([68,43,2,100,54,5,12,76,23,37])\n",
        "a"
      ]
    },
    {
      "cell_type": "markdown",
      "id": "a4a554bd",
      "metadata": {
        "id": "a4a554bd"
      },
      "source": [
        "Using visual inspection, what are the three largest values?\n",
        "\n",
        "1. Value = 100, at index 3.\n",
        "2. Value = 76, at index 7.\n",
        "3. Value = 68, at index 0."
      ]
    },
    {
      "cell_type": "code",
      "execution_count": null,
      "id": "17919a52",
      "metadata": {
        "id": "17919a52"
      },
      "outputs": [],
      "source": [
        "# using argsort, get indices of the values, arranged in ascending order\n",
        "np.argsort(a)"
      ]
    },
    {
      "cell_type": "markdown",
      "id": "700e0d42",
      "metadata": {
        "id": "700e0d42"
      },
      "source": [
        "#### Recall slicing of arrays, for the cells below.\n",
        "\n",
        "We use square brackets to access subarrays with the slice notation, marked by the colon (:) character. The NumPy slicing syntax follows that of the standard Python list; to access a slice of an array x, use this:\n",
        "\n",
        "**x[start:stop:step]**\n",
        "\n",
        "If any of these are unspecified, they default to the values `start=0`, `stop=size of dimension`, `step=1`.\n",
        "\n",
        "\n",
        "Good reference, go down about 1/3rd of the page:  https://jakevdp.github.io/PythonDataScienceHandbook/02.02-the-basics-of-numpy-arrays.html"
      ]
    },
    {
      "cell_type": "code",
      "execution_count": null,
      "id": "6c95376f",
      "metadata": {
        "id": "6c95376f"
      },
      "outputs": [],
      "source": [
        "# return three highest value index of array\n",
        "# In the slice notation, we are telling it to return the last three values of the sort array,\n",
        "# which are the indexes of the three largest values in the original array.\n",
        "np.argsort(a)[-3::]"
      ]
    },
    {
      "cell_type": "markdown",
      "id": "b52088d2",
      "metadata": {
        "id": "b52088d2"
      },
      "source": [
        "Note that in the above, we have included both sets of `colons` in the code `[::]`.\n",
        "\n",
        "Because we are only defining the first part of the slice notation (give us the last three elements), we actually don't **NEED** the second colon.\n",
        "\n",
        "So the two lines below are equivalent.\n",
        "\n",
        "We are using the code with **BOTH COLONS** `[::]` for ease of understanding."
      ]
    },
    {
      "cell_type": "code",
      "execution_count": null,
      "id": "a0db7a6d",
      "metadata": {
        "id": "a0db7a6d"
      },
      "outputs": [],
      "source": [
        "# the two lines of code below are equivalent\n",
        "display(np.argsort(a)[-3::])\n",
        "display(np.argsort(a)[-3:])"
      ]
    },
    {
      "cell_type": "code",
      "execution_count": null,
      "id": "8cc6e939",
      "metadata": {
        "id": "8cc6e939"
      },
      "outputs": [],
      "source": [
        "# Now let's arrange the sort array in ascending order of index, for the top three\n",
        "# We are taking the array from the previous cell and using slice notation\n",
        "# to sort the indexes in reverse order (step = -1)\n",
        "# Note that we are still returning the indexes from the original array.\n",
        "np.argsort(a)[-3::][::-1]"
      ]
    },
    {
      "cell_type": "code",
      "execution_count": null,
      "id": "86e42dcc",
      "metadata": {
        "id": "86e42dcc"
      },
      "outputs": [],
      "source": [
        "# Finally, let's return the 3 highest values from the original array\n",
        "# Remember from the last step the we are returning, in sorted order, the\n",
        "# indexes of the top three values.\n",
        "# So all we are doing now is returning the values at those indexes.\n",
        "a[np.argsort(a)[-3::][::-1]]"
      ]
    },
    {
      "cell_type": "code",
      "execution_count": null,
      "id": "b0891722",
      "metadata": {
        "id": "b0891722"
      },
      "outputs": [],
      "source": [
        "# This is the same as:\n",
        "a[[3,7,0]]"
      ]
    },
    {
      "cell_type": "markdown",
      "id": "e07726a0",
      "metadata": {
        "id": "e07726a0"
      },
      "source": [
        "### What are your questions on argsort()?"
      ]
    }
  ],
  "metadata": {
    "colab": {
      "provenance": []
    },
    "kernelspec": {
      "display_name": "Python 3 (ipykernel)",
      "language": "python",
      "name": "python3"
    },
    "language_info": {
      "codemirror_mode": {
        "name": "ipython",
        "version": 3
      },
      "file_extension": ".py",
      "mimetype": "text/x-python",
      "name": "python",
      "nbconvert_exporter": "python",
      "pygments_lexer": "ipython3",
      "version": "3.9.13"
    }
  },
  "nbformat": 4,
  "nbformat_minor": 5
}