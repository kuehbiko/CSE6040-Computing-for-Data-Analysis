{
  "cells": [
    {
      "cell_type": "markdown",
      "metadata": {
        "id": "y_jnuz6UP3rK"
      },
      "source": [
        "# Example Dictionary Problems: Introduction"
      ]
    },
    {
      "cell_type": "markdown",
      "metadata": {
        "id": "BLTa4-68P3rM"
      },
      "source": [
        "## Introduction"
      ]
    },
    {
      "cell_type": "markdown",
      "metadata": {
        "id": "h25L-pymP3rN"
      },
      "source": [
        "Working with dictionaries can take some getting used to. Let's look at some examples of when you might want to use them."
      ]
    },
    {
      "cell_type": "markdown",
      "metadata": {
        "id": "2QhigNEdP3rN"
      },
      "source": [
        "## A Simple Problem: Movies and Scores"
      ]
    },
    {
      "cell_type": "markdown",
      "metadata": {
        "id": "IGmgHwO2P3rN"
      },
      "source": [
        "### Recording our Movie Scores: Problem"
      ]
    },
    {
      "cell_type": "markdown",
      "metadata": {
        "id": "dujI2eqIP3rN"
      },
      "source": [
        "Let's write a program that will let us record movies we have watched and how much we liked them. One way to do this is to store the information in a dictionary. Let's try that."
      ]
    },
    {
      "cell_type": "code",
      "execution_count": null,
      "metadata": {
        "id": "yGAJpiWYP3rO"
      },
      "outputs": [],
      "source": [
        "movie_log = {}\n",
        "\n",
        "def record_scores(log):\n",
        "    ### YOUR CODE HERE ###\n",
        "\n",
        "    ### YOUR CODE HERE ###\n",
        "    pass\n",
        "\n",
        "record_scores_simple(movie_log)"
      ]
    },
    {
      "cell_type": "markdown",
      "metadata": {
        "id": "2uq1rlCZP3rP"
      },
      "source": [
        "### Recording our Movie Scores: Solution"
      ]
    },
    {
      "cell_type": "markdown",
      "metadata": {
        "id": "nB14hKdhP3rP"
      },
      "source": [
        "The cell below shows a possible solution.\n",
        "- Right now, it isn't very robust! Can you see why?\n",
        "- How would uncommenting the block in the center improve the solution?"
      ]
    },
    {
      "cell_type": "code",
      "execution_count": null,
      "metadata": {
        "id": "w-upUcKNP3rP"
      },
      "outputs": [],
      "source": [
        "movie_log = {}\n",
        "\n",
        "def record_scores_solution(log):\n",
        "    print(\"(Enter a blank movie name to exit)\")\n",
        "    # Loop forever\n",
        "    while True:\n",
        "        movie = input(\"Please enter a movie name: \")\n",
        "        score = input(\"Please enter a score: \")\n",
        "\n",
        "        # ... Is doing this here a good idea?\n",
        "        score = int(score)\n",
        "        # IMPROVE THIS SOLUTION HERE ---------------------------------------\n",
        "        # How would you make sure our users don't enter bad data?\n",
        "        # Feel free to try to add some code here to make this program better.\n",
        "        # You might delete the line above, too.\n",
        "        # END IMPROVEMENT --------------------------------------------------\n",
        "\n",
        "        # Record the movie\n",
        "        log[movie] = score\n",
        "\n",
        "        print(f\"You have awarded {movie} {score} stars.\")\n",
        "\n",
        "        # Let the user break out of the loop\n",
        "        quits = input(\"Enter q to quit, or press enter to add another movie.\")\n",
        "        if quits.lower() == \"q\":\n",
        "            break\n",
        "\n",
        "    print(f\"Here's your log of movies: {log}\")\n",
        "\n",
        "#record_scores_solution(movie_log)"
      ]
    },
    {
      "cell_type": "markdown",
      "metadata": {
        "id": "821djS0YP3rQ"
      },
      "source": [
        "### Finding our Favorite Movies: Problem"
      ]
    },
    {
      "cell_type": "markdown",
      "metadata": {
        "id": "4hjOq7IHP3rQ"
      },
      "source": [
        "Suppose we have a log of movies from earlier, and we want to filter them to only show those which we rated as having 5-stars. How could we get a list of those movies?"
      ]
    },
    {
      "cell_type": "code",
      "execution_count": null,
      "metadata": {
        "id": "EcGlOt2lP3rQ"
      },
      "outputs": [],
      "source": [
        "# Let's quickly make a dictionary of scores\n",
        "my_movies = {\n",
        "    \"Jaws\": 5,\n",
        "    \"Snowpiercer\": 3,\n",
        "    \"Beetlejuice\": 3,\n",
        "    \"Moonlight\": 5,\n",
        "    \"Casablanca\": 4,\n",
        "    \"Titanic\": 3,\n",
        "    \"Bird Box\": 2,\n",
        "    \"Millennium Actress\": 5,\n",
        "    \"A Nightmare of Elm Street\": 3,\n",
        "    \"Hot Fuzz\": 4,\n",
        "    \"Rocky\": 4,\n",
        "    \"Eraserhead\": 5,\n",
        "    \"The Cloverfield Paradox\": 1,\n",
        "    \"Jurassic World Dominion\": 2,\n",
        "    \"Jurassic Park\": 4,\n",
        "}\n",
        "\n",
        "def favorite_movies(log, score):\n",
        "    ### YOUR CODE HERE ###\n",
        "\n",
        "    ### YOUR CODE HERE ###\n",
        "    return None\n",
        "\n",
        "favorite_movies(my_movies, 5)"
      ]
    },
    {
      "cell_type": "markdown",
      "metadata": {
        "id": "jbNK6mniP3rQ"
      },
      "source": [
        "### Finding our Favorite Movies: Solution"
      ]
    },
    {
      "cell_type": "markdown",
      "metadata": {
        "id": "y87Dkk-xP3rQ"
      },
      "source": [
        "Here's one possible solution to the problem above."
      ]
    },
    {
      "cell_type": "code",
      "execution_count": null,
      "metadata": {
        "id": "GD3hoLFFP3rQ",
        "outputId": "1eb9dd42-e57e-47c5-a5ec-fde0eb9f612e"
      },
      "outputs": [
        {
          "data": {
            "text/plain": [
              "['Jaws', 'Moonlight', 'Millennium Actress', 'Eraserhead']"
            ]
          },
          "execution_count": 11,
          "metadata": {},
          "output_type": "execute_result"
        }
      ],
      "source": [
        "def favorite_movies_solution(log, score):\n",
        "    fav_movies = []\n",
        "    for movie in log:\n",
        "        if log[movie] == score:\n",
        "            fav_movies.append(movie)\n",
        "    return fav_movies\n",
        "\n",
        "favorite_movies_solution(my_movies, 5)"
      ]
    },
    {
      "cell_type": "markdown",
      "metadata": {
        "id": "4GNQZcUBP3rR"
      },
      "source": [
        "Notice that this solution lets us get the movies for any score. For example, which movies did we rate as having 4 stars?"
      ]
    },
    {
      "cell_type": "code",
      "execution_count": null,
      "metadata": {
        "id": "2aW4vPxsP3rR",
        "outputId": "f0e8fdd7-f134-4e70-d49b-de7813112824"
      },
      "outputs": [
        {
          "data": {
            "text/plain": [
              "['Casablanca', 'Hot Fuzz', 'Rocky', 'Jurassic Park']"
            ]
          },
          "execution_count": 12,
          "metadata": {},
          "output_type": "execute_result"
        }
      ],
      "source": [
        "favorite_movies_solution(my_movies, 4)"
      ]
    }
  ],
  "metadata": {
    "kernelspec": {
      "display_name": "Python 3",
      "language": "python",
      "name": "python3"
    },
    "language_info": {
      "codemirror_mode": {
        "name": "ipython",
        "version": 3
      },
      "file_extension": ".py",
      "mimetype": "text/x-python",
      "name": "python",
      "nbconvert_exporter": "python",
      "pygments_lexer": "ipython3",
      "version": "3.10.12"
    },
    "colab": {
      "provenance": []
    }
  },
  "nbformat": 4,
  "nbformat_minor": 0
}