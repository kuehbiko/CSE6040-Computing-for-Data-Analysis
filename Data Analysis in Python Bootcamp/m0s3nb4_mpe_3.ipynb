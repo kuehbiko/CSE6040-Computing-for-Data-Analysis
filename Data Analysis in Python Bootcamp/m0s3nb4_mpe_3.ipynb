{
  "cells": [
    {
      "cell_type": "markdown",
      "metadata": {
        "id": "ccUfykzecDvj"
      },
      "source": [
        "# Problem 3\n",
        "\n",
        "This problem has a single exercise worth a total of ten (10) points.\n",
        "\n",
        "**Exercise 0** (10 points). Define a function, `UniqueCharacters(s)`, that given a string `s` returns a tuple of two elements: the first element is the number of unique alphabetic characters in the string and the second is the number of unique digits (base-10) in the string.\n",
        "\n",
        "For example, the string `'ewwwffioj122434'` should output the following tuple: `(6, 4)`. The `6` occurs because there are 6 unique letters (`'e'`, `'w'`, `'f'`, `'i'`, `'o'`, and `'j'`) and `4` because there are 4 unique decimal digits (`'1'`,  `'2'`, `'3'`, `'4'`). Special characters may appear in the string but do not count as a letter or number."
      ]
    },
    {
      "cell_type": "code",
      "execution_count": null,
      "metadata": {
        "id": "2bfZ5we2cDvl"
      },
      "outputs": [],
      "source": [
        "def UniqueCharacters(s):\n",
        "    ### YOUR CODE HERE\n",
        "\n",
        "#     GOAL\n",
        "#         Tuple of 2 elements:\n",
        "#         the first element is the number of unique alphabetic characters in the string and\n",
        "#         the second is the number of unique digits (base-10) in the string.\n",
        "\n",
        "#     INPUT\n",
        "#           string called s\n",
        "\n",
        "#     STRATEGY\n",
        "#             create letter and number list variables\n",
        "#             loop over the input string\n",
        "#             detect if the character is a letter or number\n",
        "#                 https://duckduckgo.com/?q=python+is+character+alphabetic&t=chromentp&ia=web\n",
        "\n",
        "#             append the letter or number to the correct list variable\n",
        "#             after the loop take the unique values of the two variables\n",
        "#                     https://duckduckgo.com/?q=python+unique+values+in+a+list&t=chromentp&ia=web\n",
        "\n",
        "#             create tuple of the lengths of each variable\n",
        "#             return the tuple\n",
        "#     SOLUTION\n",
        "\n",
        "    lets = []\n",
        "    nums = []\n",
        "\n",
        "    for char in s:\n",
        "        if char.isalpha():\n",
        "            lets.append(char)\n",
        "        if char.isdigit():\n",
        "            nums.append(char)\n",
        "\n",
        "    set_lets = set(lets)\n",
        "    set_nums = set(nums)\n",
        "\n",
        "    ret_var = (len(set_lets),len(set_nums))\n",
        "\n",
        "    return ret_var\n",
        "\n",
        "\n",
        "# test case\n",
        "# UniqueCharacters('ewwwffioj122434')"
      ]
    },
    {
      "cell_type": "code",
      "execution_count": null,
      "metadata": {
        "nbgrader": {
          "grade": true,
          "grade_id": "UniqueCharacters",
          "locked": true,
          "points": "10",
          "solution": false
        },
        "id": "-1dfL4igcDvm"
      },
      "outputs": [],
      "source": [
        "# Test Cell: 'UniqueCharacters' (10 points)\n",
        "assert UniqueCharacters('abc123') == (3,3)\n",
        "assert UniqueCharacters('abc') == (3,0)\n",
        "assert UniqueCharacters('aaa') == (1,0)\n",
        "assert UniqueCharacters('aaa111') == (1,1)\n",
        "assert UniqueCharacters('111') == (0,1)\n",
        "assert UniqueCharacters('123') == (0,3)\n",
        "assert UniqueCharacters('') == (0,0)\n",
        "assert UniqueCharacters('///;;;...,????!!!!!###$$$%%%') == (0,0)\n",
        "assert UniqueCharacters('//23bd') == (2,2)\n",
        "assert UniqueCharacters('b2b3n4s4d9') == (4,4)\n",
        "assert UniqueCharacters('9090909p0y90p90y90') == (2,2)\n",
        "assert UniqueCharacters('ieowjfiojfioj2342io4ji') == (6,3)\n",
        "assert UniqueCharacters('ewwwffioj122434') == (6,4)\n",
        "assert UniqueCharacters('dwdj2ru3jf894jgf.,/23,4./3ei8fj2389ej89/,.,./2dd32je98dej89ij') == (9,5)\n",
        "print(\"\\n(Passed!)\")"
      ]
    },
    {
      "cell_type": "markdown",
      "metadata": {
        "id": "AMHHj62DcDvn"
      },
      "source": [
        "**Fin!** You've reached the end of this problem. Don't forget to restart the\n",
        "kernel and run the entire notebook from top-to-bottom to make sure you did\n",
        "everything correctly. If that is working, try submitting this problem. (Recall\n",
        "that you *must* submit and pass the autograder to get credit for your work!)"
      ]
    }
  ],
  "metadata": {
    "kernelspec": {
      "display_name": "Python 3 (ipykernel)",
      "language": "python",
      "name": "python3"
    },
    "language_info": {
      "codemirror_mode": {
        "name": "ipython",
        "version": 3
      },
      "file_extension": ".py",
      "mimetype": "text/x-python",
      "name": "python",
      "nbconvert_exporter": "python",
      "pygments_lexer": "ipython3",
      "version": "3.9.13"
    },
    "colab": {
      "provenance": []
    }
  },
  "nbformat": 4,
  "nbformat_minor": 0
}