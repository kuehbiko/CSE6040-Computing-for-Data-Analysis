{
  "cells": [
    {
      "cell_type": "markdown",
      "metadata": {
        "id": "5xrlHlAeOyYN"
      },
      "source": [
        "# Putting it all together: Top *N* Elements"
      ]
    },
    {
      "cell_type": "markdown",
      "metadata": {
        "id": "JTE5wAYJOyYP"
      },
      "source": [
        "## Introduction"
      ]
    },
    {
      "cell_type": "markdown",
      "metadata": {
        "id": "2KJUaxuNOyYP"
      },
      "source": [
        "Let's practice what we've learned."
      ]
    },
    {
      "cell_type": "markdown",
      "metadata": {
        "id": "Q-oyca2-OyYQ"
      },
      "source": [
        "## Simple Work: Random Numbers"
      ]
    },
    {
      "cell_type": "markdown",
      "metadata": {
        "id": "EOEaTqTTOyYQ"
      },
      "source": [
        "Let's answer the following about a sequence of random numbers:\n",
        "- What's the largest value?\n",
        "- What's the smallest value?\n",
        "- What are the 5 largest values?\n",
        "- What are the 5 smallest values?"
      ]
    },
    {
      "cell_type": "code",
      "execution_count": null,
      "metadata": {
        "id": "rlUBylrpOyYQ",
        "outputId": "86a218ae-c09e-49df-8bb2-89edaad6b43f"
      },
      "outputs": [
        {
          "data": {
            "text/plain": [
              "[494, 487, 486, 480, 479]"
            ]
          },
          "execution_count": 12,
          "metadata": {},
          "output_type": "execute_result"
        }
      ],
      "source": [
        "from random import randint\n",
        "\n",
        "random_tup = tuple(randint(1, 500) for _ in range(50))\n",
        "\n",
        "# Largest value\n",
        "max(random_tup)\n",
        "# Smallest value\n",
        "min(random_tup)\n",
        "# If we want the N-largest or N-smallest values, we'll need to sort these\n",
        "# values\n",
        "sorted_tup = sorted(random_tup)\n",
        "# 5 smallest\n",
        "sorted_tup[:5]\n",
        "# 5 largest\n",
        "sorted_tup[::-1][:5]"
      ]
    },
    {
      "cell_type": "markdown",
      "metadata": {
        "id": "cLrPUUTJOyYR"
      },
      "source": [
        "## More Complicated: Dictionaries"
      ]
    },
    {
      "cell_type": "markdown",
      "metadata": {
        "id": "eul98O5uOyYR"
      },
      "source": [
        "Assume we have a dictionary containing:\n",
        "- Keys: programming languages\n",
        "- Years: first published\n",
        "\n",
        "How can we answer the questions we outlined earlier?"
      ]
    },
    {
      "cell_type": "code",
      "execution_count": null,
      "metadata": {
        "id": "HU59tohPOyYS",
        "outputId": "4cde504d-d232-44c3-89c6-b7986c6d3ec3"
      },
      "outputs": [
        {
          "data": {
            "text/plain": [
              "[('Julia', 2012),\n",
              " ('Python3', 2008),\n",
              " ('Clojure', 2007),\n",
              " ('Python2', 2000),\n",
              " ('Java', 1995)]"
            ]
          },
          "execution_count": 14,
          "metadata": {},
          "output_type": "execute_result"
        }
      ],
      "source": [
        "# Arbitrary collection of programming languages\n",
        "langs = {\n",
        "    'APL': 1966,\n",
        "    'Fortran': 1957,\n",
        "    'Python2': 2000,\n",
        "    'Python3': 2008,\n",
        "    'R': 1993,\n",
        "    'JavaScript': 1995,\n",
        "    'Java': 1995,\n",
        "    'C': 1972,\n",
        "    'Clojure': 2007,\n",
        "    'Julia': 2012\n",
        "}\n",
        "\n",
        "# Newest language\n",
        "max(langs, key=lambda language: langs[language])\n",
        "# Oldest language\n",
        "min(langs, key=lambda language: langs[language])\n",
        "\n",
        "# If we want the N-largest or N-smallest values, we'll need to sort these\n",
        "# values.\n",
        "# (Note: we could use .items() here instead of zip(), but where's\n",
        "# the fun in that?)\n",
        "sorted_langs = sorted(\n",
        "    zip(langs, langs.values()),\n",
        "    key=lambda item: item[1]\n",
        ")\n",
        "\n",
        "# 5 oldest\n",
        "sorted_langs[:5]\n",
        "# 5 newest\n",
        "sorted_langs[::-1][:5]"
      ]
    }
  ],
  "metadata": {
    "kernelspec": {
      "display_name": "Python 3",
      "language": "python",
      "name": "python3"
    },
    "language_info": {
      "codemirror_mode": {
        "name": "ipython",
        "version": 3
      },
      "file_extension": ".py",
      "mimetype": "text/x-python",
      "name": "python",
      "nbconvert_exporter": "python",
      "pygments_lexer": "ipython3",
      "version": "3.10.12"
    },
    "colab": {
      "provenance": []
    }
  },
  "nbformat": 4,
  "nbformat_minor": 0
}