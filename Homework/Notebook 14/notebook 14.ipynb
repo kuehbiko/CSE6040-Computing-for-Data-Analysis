{
 "cells": [
  {
   "cell_type": "markdown",
   "metadata": {
    "deletable": false,
    "editable": false,
    "nbgrader": {
     "grade": false,
     "grade_id": "cell-9673c77d0e8030f6",
     "locked": true,
     "schema_version": 1,
     "solution": false
    }
   },
   "source": [
    "# Clustering via $k$-means\n",
    "\n",
    "We previously studied the classification problem using the logistic regression algorithm. Since we had labels for each data point, we may regard the problem as one of _supervised learning_. However, in many applications, the data have no labels but we wish to discover possible labels (or other hidden patterns or structures). This problem is one of _unsupervised learning_. How can we approach such problems?\n",
    "\n",
    "**Clustering** is one class of unsupervised learning methods. In this lab, we'll consider the following form of the clustering task. Suppose you are given\n",
    "\n",
    "- a set of observations, $X \\equiv \\{\\hat{x}_i \\,|\\, 0 \\leq i < n\\}$, and\n",
    "- a target number of _clusters_, $k$.\n",
    "\n",
    "Your goal is to partition the points into $k$ subsets, $C_0,\\dots, C_{k-1} \\subseteq X$, which are\n",
    "\n",
    "- disjoint, i.e., $i \\neq j \\implies C_i \\cap C_j = \\emptyset$;\n",
    "- but also complete, i.e., $C_0 \\cup C_1 \\cup \\cdots \\cup C_{k-1} = X$.\n",
    "\n",
    "Intuitively, each cluster should reflect some \"sensible\" grouping. Thus, we need to specify what constitutes such a grouping."
   ]
  },
  {
   "cell_type": "markdown",
   "metadata": {
    "deletable": false,
    "editable": false,
    "nbgrader": {
     "grade": false,
     "grade_id": "cell-541e8cffa94a67c8",
     "locked": true,
     "schema_version": 1,
     "solution": false
    }
   },
   "source": [
    "## Setup: Dataset\n",
    "\n",
    "The following cell will download the data you'll need for this lab. Run it now."
   ]
  },
  {
   "cell_type": "code",
   "execution_count": 48,
   "metadata": {
    "deletable": false,
    "editable": false,
    "nbgrader": {
     "grade": false,
     "grade_id": "cell-e6424d64589d55cc",
     "locked": true,
     "schema_version": 1,
     "solution": false
    }
   },
   "outputs": [
    {
     "name": "stdout",
     "output_type": "stream",
     "text": [
      "./resource/asnlib/publicdata/logreg_points_train.csv\n",
      "'logreg_points_train.csv' is ready!\n",
      "./resource/asnlib/publicdata/centers_initial_testing.npy\n",
      "'centers_initial_testing.npy' is ready!\n",
      "./resource/asnlib/publicdata/compute_d2_soln.npy\n",
      "'compute_d2_soln.npy' is ready!\n",
      "./resource/asnlib/publicdata/y_test3.npy\n",
      "'y_test3.npy' is ready!\n",
      "./resource/asnlib/publicdata/centers_test3_soln.npy\n",
      "'centers_test3_soln.npy' is ready!\n",
      "./resource/asnlib/publicdata/assign_cluster_labels_S.npy\n",
      "'assign_cluster_labels_S.npy' is ready!\n",
      "./resource/asnlib/publicdata/assign_cluster_labels_soln.npy\n",
      "'assign_cluster_labels_soln.npy' is ready!\n",
      "\n",
      "(All data appears to be ready.)\n"
     ]
    }
   ],
   "source": [
    "import requests\n",
    "import os\n",
    "import hashlib\n",
    "import io\n",
    "\n",
    "def on_vocareum():\n",
    "    return os.path.exists('.voc')\n",
    "\n",
    "def download(file, local_dir=\"\", url_base=None, checksum=None):\n",
    "    local_file = \"{}{}\".format(local_dir, file)\n",
    "    print (local_file)\n",
    "    if not os.path.exists(local_file):\n",
    "        if url_base is None:\n",
    "            url_base = \"https://cse6040.gatech.edu/datasets/\"\n",
    "        url = \"{}{}\".format(url_base, file)\n",
    "        print(\"Downloading: {} ...\".format(url))\n",
    "        r = requests.get(url)\n",
    "        with open(local_file, 'wb') as f:\n",
    "            f.write(r.content)\n",
    "            \n",
    "    if checksum is not None:\n",
    "        with io.open(local_file, 'rb') as f:\n",
    "            body = f.read()\n",
    "            body_checksum = hashlib.md5(body).hexdigest()\n",
    "            assert body_checksum == checksum, \\\n",
    "                \"Downloaded file '{}' has incorrect checksum: '{}' instead of '{}'\".format(local_file,\n",
    "                                                                                           body_checksum,\n",
    "                                                                                           checksum)\n",
    "    print(\"'{}' is ready!\".format(file))\n",
    "    \n",
    "if on_vocareum():\n",
    "    URL_BASE = \"https://cse6040.gatech.edu/datasets/kmeans/\"\n",
    "    DATA_PATH = \"./resource/asnlib/publicdata/\"\n",
    "else:\n",
    "    URL_BASE = \"https://github.com/cse6040/labs-fa17/raw/master/datasets/kmeans/\"\n",
    "    DATA_PATH = \"\"\n",
    "\n",
    "datasets = {'logreg_points_train.csv': '9d1e42f49a719da43113678732491c6d',\n",
    "            'centers_initial_testing.npy': '8884b4af540c1d5119e6e8980da43f04',\n",
    "            'compute_d2_soln.npy': '980fe348b6cba23cb81ddf703494fb4c',\n",
    "            'y_test3.npy': 'df322037ea9c523564a5018ea0a70fbf',\n",
    "            'centers_test3_soln.npy': '0c594b28e512a532a2ef4201535868b5',\n",
    "            'assign_cluster_labels_S.npy': '37e464f2b79dc1d59f5ec31eaefe4161',\n",
    "            'assign_cluster_labels_soln.npy': 'fc0e084ac000f30948946d097ed85ebc'}\n",
    "\n",
    "for filename, checksum in datasets.items():\n",
    "    download(filename, local_dir=DATA_PATH, url_base=URL_BASE, checksum=checksum)\n",
    "    \n",
    "print(\"\\n(All data appears to be ready.)\")\n",
    "\n"
   ]
  },
  {
   "cell_type": "markdown",
   "metadata": {
    "deletable": false,
    "editable": false,
    "nbgrader": {
     "grade": false,
     "grade_id": "cell-cb3579f34a2e2239",
     "locked": true,
     "schema_version": 1,
     "solution": false
    }
   },
   "source": [
    "## The $k$-means clustering criterion\n",
    "\n",
    "Here is one way to measure the quality of a set of clusters. For each cluster $C$, consider its center $\\mu$ and measure the distance $\\|x-\\mu\\|$ of each observation $x \\in C$ to the center. Add these up for all points in the cluster; call this sum is the _within-cluster sum-of-squares (WCSS)_. Then, set as our goal to choose clusters that minimize the total WCSS over _all_ clusters.\n",
    "\n",
    "More formally, given a clustering $C = \\{C_0, C_1, \\ldots, C_{k-1}\\}$, let\n",
    "\n",
    "$$\n",
    "  \\mathrm{WCSS}(C) \\equiv \\sum_{i=0}^{k-1} \\sum_{x\\in C_i} \\|x - \\mu_i\\|^2,\n",
    "$$\n",
    "\n",
    "where $\\mu_i$ is the center of $C_i$. This center may be computed simply as the mean of all points in $C_i$, i.e.,\n",
    "\n",
    "$$\n",
    "  \\mu_i \\equiv \\dfrac{1}{|C_i|} \\sum_{x \\in C_i} x.\n",
    "$$\n",
    "\n",
    "Then, our objective is to find the \"best\" clustering, $C_*$, which is the one that has a minimum WCSS.\n",
    "\n",
    "$$\n",
    "  C_* = \\arg\\min_C \\mathrm{WCSS}(C).\n",
    "$$"
   ]
  },
  {
   "cell_type": "markdown",
   "metadata": {
    "deletable": false,
    "editable": false,
    "nbgrader": {
     "grade": false,
     "grade_id": "cell-6b93655f7eed5747",
     "locked": true,
     "schema_version": 1,
     "solution": false
    }
   },
   "source": [
    "## The standard $k$-means algorithm (Lloyd's algorithm)\n",
    "\n",
    "Finding the global optimum is [NP-hard](https://en.wikipedia.org/wiki/NP-hardness), which is computer science mumbo jumbo for \"we don't know whether there is an algorithm to calculate the exact answer in fewer steps than exponential in the size of the input.\" Nevertheless, there is an iterative method, Lloyd’s algorithm, that can quickly converge to a _local_ (as opposed to _global_) minimum. The procedure alternates between two operations: _assignment_ and _update_.\n",
    "\n",
    "**Step 1: Assignment.** Given a fixed set of $k$ centers, assign each point to the nearest center:\n",
    "\n",
    "$$\n",
    "  C_i = \\{\\hat{x}: \\| \\hat{x} - \\mu_i \\| \\le \\| \\hat{x} - \\mu_j \\|, 1 \\le j \\le k \\}.\n",
    "$$\n",
    "\n",
    "**Step 2: Update.** Recompute the $k$ centers (\"centroids\") by averaging all the data points belonging to each cluster, i.e., taking their mean:\n",
    "\n",
    "$$\n",
    "  \\mu_i = \\dfrac{1}{|C_i|} \\sum_{\\hat{x} \\in C_i} \\hat{x}\n",
    "$$\n",
    "\n",
    "![Illustration of $k$-means](https://github.com/cse6040/labs-fa17/raw/master/lab14-kmeans/base21-small-transparent.png)\n",
    "\n",
    "> Figure adapted from: http://stanford.edu/~cpiech/cs221/img/kmeansViz.png"
   ]
  },
  {
   "cell_type": "markdown",
   "metadata": {
    "deletable": false,
    "editable": false,
    "nbgrader": {
     "grade": false,
     "grade_id": "cell-13840d179f2b5013",
     "locked": true,
     "schema_version": 1,
     "solution": false
    }
   },
   "source": [
    "In the code that follows, it will be convenient to use our usual \"data matrix\" convention, that is, each row of a data matrix $X$ is one of $m$ observations and each column (coordinate) is one of $d$ predictors. However, we will _not_ need a dummy column of ones since we are not fitting a function.\n",
    "\n",
    "$$\n",
    "  X\n",
    "  \\equiv \\left(\\begin{array}{c} \\hat{x}_0^T \\\\ \\vdots \\\\ \\hat{x}_{m}^T \\end{array}\\right)\n",
    "  = \\left(\\begin{array}{ccc} x_0 & \\cdots & x_{d-1} \\end{array}\\right).\n",
    "$$"
   ]
  },
  {
   "cell_type": "code",
   "execution_count": 49,
   "metadata": {
    "collapsed": true,
    "deletable": false,
    "editable": false,
    "nbgrader": {
     "grade": false,
     "locked": true,
     "solution": false
    }
   },
   "outputs": [],
   "source": [
    "import numpy as np\n",
    "import pandas as pd\n",
    "import seaborn as sns\n",
    "import matplotlib.pyplot as plt\n",
    "\n",
    "%matplotlib inline\n",
    "\n",
    "import matplotlib as mpl\n",
    "mpl.rc(\"savefig\", dpi=100) # Adjust for higher-resolution figures"
   ]
  },
  {
   "cell_type": "markdown",
   "metadata": {
    "deletable": false,
    "editable": false,
    "nbgrader": {
     "grade": false,
     "grade_id": "cell-15cf3d2b6fe2edc3",
     "locked": true,
     "schema_version": 1,
     "solution": false
    }
   },
   "source": [
    "We will use the following data set, which is from the logistic regression notebook."
   ]
  },
  {
   "cell_type": "code",
   "execution_count": 50,
   "metadata": {
    "deletable": false,
    "editable": false,
    "nbgrader": {
     "grade": false,
     "grade_id": "cell-8e381f31d5d76d62",
     "locked": true,
     "schema_version": 1,
     "solution": false
    }
   },
   "outputs": [
    {
     "data": {
      "text/html": [
       "<div>\n",
       "<style scoped>\n",
       "    .dataframe tbody tr th:only-of-type {\n",
       "        vertical-align: middle;\n",
       "    }\n",
       "\n",
       "    .dataframe tbody tr th {\n",
       "        vertical-align: top;\n",
       "    }\n",
       "\n",
       "    .dataframe thead th {\n",
       "        text-align: right;\n",
       "    }\n",
       "</style>\n",
       "<table border=\"1\" class=\"dataframe\">\n",
       "  <thead>\n",
       "    <tr style=\"text-align: right;\">\n",
       "      <th></th>\n",
       "      <th>x_1</th>\n",
       "      <th>x_2</th>\n",
       "      <th>label</th>\n",
       "    </tr>\n",
       "  </thead>\n",
       "  <tbody>\n",
       "    <tr>\n",
       "      <th>0</th>\n",
       "      <td>-0.234443</td>\n",
       "      <td>-1.075960</td>\n",
       "      <td>1</td>\n",
       "    </tr>\n",
       "    <tr>\n",
       "      <th>1</th>\n",
       "      <td>0.730359</td>\n",
       "      <td>-0.918093</td>\n",
       "      <td>0</td>\n",
       "    </tr>\n",
       "    <tr>\n",
       "      <th>2</th>\n",
       "      <td>1.432270</td>\n",
       "      <td>-0.439449</td>\n",
       "      <td>0</td>\n",
       "    </tr>\n",
       "    <tr>\n",
       "      <th>3</th>\n",
       "      <td>0.026733</td>\n",
       "      <td>1.050300</td>\n",
       "      <td>0</td>\n",
       "    </tr>\n",
       "    <tr>\n",
       "      <th>4</th>\n",
       "      <td>1.879650</td>\n",
       "      <td>0.207743</td>\n",
       "      <td>0</td>\n",
       "    </tr>\n",
       "  </tbody>\n",
       "</table>\n",
       "</div>"
      ],
      "text/plain": [
       "        x_1       x_2  label\n",
       "0 -0.234443 -1.075960      1\n",
       "1  0.730359 -0.918093      0\n",
       "2  1.432270 -0.439449      0\n",
       "3  0.026733  1.050300      0\n",
       "4  1.879650  0.207743      0"
      ]
     },
     "execution_count": 50,
     "metadata": {},
     "output_type": "execute_result"
    }
   ],
   "source": [
    "df = pd.read_csv(f'{DATA_PATH}logreg_points_train.csv')\n",
    "df.head()"
   ]
  },
  {
   "cell_type": "markdown",
   "metadata": {
    "deletable": false,
    "editable": false,
    "nbgrader": {
     "grade": false,
     "locked": true,
     "solution": false
    }
   },
   "source": [
    "Here are some descriptive statistics of the two classes:"
   ]
  },
  {
   "cell_type": "code",
   "execution_count": 51,
   "metadata": {},
   "outputs": [
    {
     "name": "stdout",
     "output_type": "stream",
     "text": [
      "=== Class 0 statistics ===\n"
     ]
    },
    {
     "data": {
      "text/html": [
       "<div>\n",
       "<style scoped>\n",
       "    .dataframe tbody tr th:only-of-type {\n",
       "        vertical-align: middle;\n",
       "    }\n",
       "\n",
       "    .dataframe tbody tr th {\n",
       "        vertical-align: top;\n",
       "    }\n",
       "\n",
       "    .dataframe thead th {\n",
       "        text-align: right;\n",
       "    }\n",
       "</style>\n",
       "<table border=\"1\" class=\"dataframe\">\n",
       "  <thead>\n",
       "    <tr style=\"text-align: right;\">\n",
       "      <th></th>\n",
       "      <th>x_1</th>\n",
       "      <th>x_2</th>\n",
       "      <th>label</th>\n",
       "    </tr>\n",
       "  </thead>\n",
       "  <tbody>\n",
       "    <tr>\n",
       "      <th>count</th>\n",
       "      <td>195.000000</td>\n",
       "      <td>195.000000</td>\n",
       "      <td>195.0</td>\n",
       "    </tr>\n",
       "    <tr>\n",
       "      <th>mean</th>\n",
       "      <td>0.734464</td>\n",
       "      <td>0.239620</td>\n",
       "      <td>0.0</td>\n",
       "    </tr>\n",
       "    <tr>\n",
       "      <th>std</th>\n",
       "      <td>0.502728</td>\n",
       "      <td>0.947972</td>\n",
       "      <td>0.0</td>\n",
       "    </tr>\n",
       "    <tr>\n",
       "      <th>min</th>\n",
       "      <td>-0.526495</td>\n",
       "      <td>-2.522590</td>\n",
       "      <td>0.0</td>\n",
       "    </tr>\n",
       "    <tr>\n",
       "      <th>25%</th>\n",
       "      <td>0.405028</td>\n",
       "      <td>-0.280322</td>\n",
       "      <td>0.0</td>\n",
       "    </tr>\n",
       "    <tr>\n",
       "      <th>50%</th>\n",
       "      <td>0.700774</td>\n",
       "      <td>0.281831</td>\n",
       "      <td>0.0</td>\n",
       "    </tr>\n",
       "    <tr>\n",
       "      <th>75%</th>\n",
       "      <td>1.095340</td>\n",
       "      <td>0.845899</td>\n",
       "      <td>0.0</td>\n",
       "    </tr>\n",
       "    <tr>\n",
       "      <th>max</th>\n",
       "      <td>2.098110</td>\n",
       "      <td>2.506720</td>\n",
       "      <td>0.0</td>\n",
       "    </tr>\n",
       "  </tbody>\n",
       "</table>\n",
       "</div>"
      ],
      "text/plain": [
       "              x_1         x_2  label\n",
       "count  195.000000  195.000000  195.0\n",
       "mean     0.734464    0.239620    0.0\n",
       "std      0.502728    0.947972    0.0\n",
       "min     -0.526495   -2.522590    0.0\n",
       "25%      0.405028   -0.280322    0.0\n",
       "50%      0.700774    0.281831    0.0\n",
       "75%      1.095340    0.845899    0.0\n",
       "max      2.098110    2.506720    0.0"
      ]
     },
     "metadata": {},
     "output_type": "display_data"
    },
    {
     "name": "stdout",
     "output_type": "stream",
     "text": [
      "\n",
      "=== Class 1 statistics ===\n"
     ]
    },
    {
     "data": {
      "text/html": [
       "<div>\n",
       "<style scoped>\n",
       "    .dataframe tbody tr th:only-of-type {\n",
       "        vertical-align: middle;\n",
       "    }\n",
       "\n",
       "    .dataframe tbody tr th {\n",
       "        vertical-align: top;\n",
       "    }\n",
       "\n",
       "    .dataframe thead th {\n",
       "        text-align: right;\n",
       "    }\n",
       "</style>\n",
       "<table border=\"1\" class=\"dataframe\">\n",
       "  <thead>\n",
       "    <tr style=\"text-align: right;\">\n",
       "      <th></th>\n",
       "      <th>x_1</th>\n",
       "      <th>x_2</th>\n",
       "      <th>label</th>\n",
       "    </tr>\n",
       "  </thead>\n",
       "  <tbody>\n",
       "    <tr>\n",
       "      <th>count</th>\n",
       "      <td>180.000000</td>\n",
       "      <td>180.000000</td>\n",
       "      <td>180.0</td>\n",
       "    </tr>\n",
       "    <tr>\n",
       "      <th>mean</th>\n",
       "      <td>-0.522413</td>\n",
       "      <td>-1.031378</td>\n",
       "      <td>1.0</td>\n",
       "    </tr>\n",
       "    <tr>\n",
       "      <th>std</th>\n",
       "      <td>0.182693</td>\n",
       "      <td>0.774145</td>\n",
       "      <td>0.0</td>\n",
       "    </tr>\n",
       "    <tr>\n",
       "      <th>min</th>\n",
       "      <td>-1.016560</td>\n",
       "      <td>-3.284610</td>\n",
       "      <td>1.0</td>\n",
       "    </tr>\n",
       "    <tr>\n",
       "      <th>25%</th>\n",
       "      <td>-0.637911</td>\n",
       "      <td>-1.601733</td>\n",
       "      <td>1.0</td>\n",
       "    </tr>\n",
       "    <tr>\n",
       "      <th>50%</th>\n",
       "      <td>-0.520604</td>\n",
       "      <td>-1.054165</td>\n",
       "      <td>1.0</td>\n",
       "    </tr>\n",
       "    <tr>\n",
       "      <th>75%</th>\n",
       "      <td>-0.408707</td>\n",
       "      <td>-0.448561</td>\n",
       "      <td>1.0</td>\n",
       "    </tr>\n",
       "    <tr>\n",
       "      <th>max</th>\n",
       "      <td>-0.000560</td>\n",
       "      <td>1.069520</td>\n",
       "      <td>1.0</td>\n",
       "    </tr>\n",
       "  </tbody>\n",
       "</table>\n",
       "</div>"
      ],
      "text/plain": [
       "              x_1         x_2  label\n",
       "count  180.000000  180.000000  180.0\n",
       "mean    -0.522413   -1.031378    1.0\n",
       "std      0.182693    0.774145    0.0\n",
       "min     -1.016560   -3.284610    1.0\n",
       "25%     -0.637911   -1.601733    1.0\n",
       "50%     -0.520604   -1.054165    1.0\n",
       "75%     -0.408707   -0.448561    1.0\n",
       "max     -0.000560    1.069520    1.0"
      ]
     },
     "metadata": {},
     "output_type": "display_data"
    }
   ],
   "source": [
    "df_class_0 = df[df['label'] == 0]\n",
    "df_class_1 = df[df['label'] == 1]\n",
    "\n",
    "print(\"=== Class 0 statistics ===\")\n",
    "display(df_class_0.describe())\n",
    "\n",
    "print(\"\\n=== Class 1 statistics ===\")\n",
    "display(df_class_1.describe())"
   ]
  },
  {
   "cell_type": "markdown",
   "metadata": {
    "deletable": false,
    "editable": false,
    "nbgrader": {
     "grade": false,
     "locked": true,
     "solution": false
    }
   },
   "source": [
    "You can observe that the centers are distinct, with \"mean\" or center-coordinates of $\\approx (0.734, 0.240)$ for class 0 versus $\\approx (-0.522, -1.031)$ for class 1.\n",
    "\n",
    "If you are a more visual person, here is a plot that makes the same point:"
   ]
  },
  {
   "cell_type": "code",
   "execution_count": 52,
   "metadata": {
    "deletable": false,
    "editable": false,
    "nbgrader": {
     "grade": false,
     "grade_id": "cell-c117db7825e08d1e",
     "locked": true,
     "schema_version": 1,
     "solution": false
    }
   },
   "outputs": [
    {
     "data": {
      "image/png": "[encoded data removed]",
      "text/plain": [
       "<Figure size 402.375x360 with 1 Axes>"
      ]
     },
     "metadata": {
      "needs_background": "light"
     },
     "output_type": "display_data"
    }
   ],
   "source": [
    "from nb13utils import make_scatter_plot, mark_matches, count_matches\n",
    "\n",
    "make_scatter_plot(df)"
   ]
  },
  {
   "cell_type": "markdown",
   "metadata": {
    "deletable": false,
    "editable": false,
    "nbgrader": {
     "grade": false,
     "grade_id": "cell-87c29d5fe9b0d272",
     "locked": true,
     "schema_version": 1,
     "solution": false
    }
   },
   "source": [
    "Let's extract the data points as a data matrix, `points`, and the labels as a vector, `labels`. Note that the k-means algorithm you will implement should **not** reference `labels` -- that's the solution we will try to predict given only the point coordinates (`points`) and target number of clusters (`k`)."
   ]
  },
  {
   "cell_type": "code",
   "execution_count": 53,
   "metadata": {
    "collapsed": true,
    "deletable": false,
    "editable": false,
    "nbgrader": {
     "grade": false,
     "grade_id": "cell-c1fbf82510c1ed62",
     "locked": true,
     "schema_version": 1,
     "solution": false
    }
   },
   "outputs": [],
   "source": [
    "points = df[['x_1', 'x_2']].values\n",
    "labels = df['label'].values\n",
    "n, d = points.shape\n",
    "k = 2"
   ]
  },
  {
   "cell_type": "markdown",
   "metadata": {
    "deletable": false,
    "editable": false,
    "nbgrader": {
     "grade": false,
     "grade_id": "cell-eb36c96dcc01b847",
     "locked": true,
     "schema_version": 1,
     "solution": false
    }
   },
   "source": [
    "Note that the labels should _not_ be used in the $k$-means algorithm. We use them here only as ground truth for later verification."
   ]
  },
  {
   "cell_type": "markdown",
   "metadata": {
    "deletable": false,
    "editable": false,
    "nbgrader": {
     "grade": false,
     "grade_id": "cell-7dee06f2303f7153",
     "locked": true,
     "schema_version": 1,
     "solution": false
    }
   },
   "source": [
    "### How to start? Initializing the $k$ centers\n",
    "\n",
    "To start the algorithm, you need an initial guess. Let's randomly choose $k$ observations from the data.\n",
    "\n",
    "**Exercise 1** (2 points). Complete the following function, `init_centers(X, k)`, so that it randomly selects $k$ of the given observations to serve as centers. It should return a Numpy array of size `k`-by-`d`, where `d` is the number of columns of `X`."
   ]
  },
  {
   "cell_type": "code",
   "execution_count": 54,
   "metadata": {
    "collapsed": true,
    "nbgrader": {
     "grade": false,
     "grade_id": "init_centers",
     "locked": false,
     "schema_version": 1,
     "solution": true
    }
   },
   "outputs": [],
   "source": [
    "def init_centers(X, k):\n",
    "    \"\"\"\n",
    "    Randomly samples k observations from X as centers.\n",
    "    Returns these centers as a (k x d) numpy array.\n",
    "    \"\"\"\n",
    "    ###\n",
    "    samples = np.random.choice(len(X), size=k, replace=False)\n",
    "    return X[samples, :]\n",
    "    ###\n"
   ]
  },
  {
   "cell_type": "code",
   "execution_count": 55,
   "metadata": {
    "deletable": false,
    "editable": false,
    "nbgrader": {
     "grade": true,
     "grade_id": "init_centers_test",
     "locked": true,
     "points": 2,
     "schema_version": 1,
     "solution": false
    }
   },
   "outputs": [
    {
     "name": "stdout",
     "output_type": "stream",
     "text": [
      "Initial centers:\n",
      " [[-0.604316 -1.88851 ]\n",
      " [-0.305493  0.600401]]\n",
      "\n",
      "(Passed!)\n"
     ]
    }
   ],
   "source": [
    "# Test cell: `init_centers_test`\n",
    "\n",
    "centers_initial = init_centers(points, k)\n",
    "print(\"Initial centers:\\n\", centers_initial)\n",
    "\n",
    "assert type(centers_initial) is np.ndarray, \"Your function should return a Numpy array instead of a {}\".format(type(centers_initial))\n",
    "assert centers_initial.shape == (k, d), \"Returned centers do not have the right shape ({} x {})\".format(k, d)\n",
    "assert (sum(centers_initial[0, :] == points) == [1, 1]).all(), \"The centers must come from the input.\"\n",
    "assert (sum(centers_initial[1, :] == points) == [1, 1]).all(), \"The centers must come from the input.\"\n",
    "\n",
    "print(\"\\n(Passed!)\")"
   ]
  },
  {
   "cell_type": "markdown",
   "metadata": {
    "deletable": false,
    "editable": false,
    "nbgrader": {
     "grade": false,
     "grade_id": "cell-d57fa9d79078b2df",
     "locked": true,
     "schema_version": 1,
     "solution": false
    }
   },
   "source": [
    "### Computing the distances\n",
    "\n",
    "**Exercise 2** (3 points). Implement a function that computes a distance matrix, $S = (s_{ij})$ such that $s_{ij} = d_{ij}^2$ is the _squared_ distance from point $\\hat{x}_i$ to center $\\mu_j$. It should return a Numpy matrix `S[:m, :k]`."
   ]
  },
  {
   "cell_type": "code",
   "execution_count": 56,
   "metadata": {
    "collapsed": true,
    "nbgrader": {
     "grade": false,
     "grade_id": "compute_d2",
     "locked": false,
     "schema_version": 1,
     "solution": true
    }
   },
   "outputs": [],
   "source": [
    "def compute_d2(X, centers):\n",
    "    ###\n",
    "    m = len(X)\n",
    "    k = len(centers)\n",
    "    \n",
    "    S = np.empty((m, k))\n",
    "    \n",
    "    for i in range(m):\n",
    "        S[i,:] = np.linalg.norm(X[i, :] - centers, ord=2, axis=1)**2\n",
    "\n",
    "    return S\n",
    "    ###\n"
   ]
  },
  {
   "cell_type": "code",
   "execution_count": 57,
   "metadata": {},
   "outputs": [
    {
     "data": {
      "text/plain": [
       "array([[7.97043539e-01, 2.81523430e+00],\n",
       "       [2.72306651e+00, 3.37881339e+00],\n",
       "       [6.24746032e+00, 4.10110827e+00],\n",
       "       [9.03482668e+00, 3.12783026e-01],\n",
       "       [1.05643637e+01, 4.92903024e+00],\n",
       "       [7.71149049e+00, 2.26908537e+00],\n",
       "       [1.53329345e+00, 2.10083446e+00],\n",
       "       [2.05054605e+00, 1.19352100e+00],\n",
       "       [3.79177864e-01, 3.59516584e+00],\n",
       "       [1.84926959e-01, 4.54494044e+00],\n",
       "       [7.96268563e-01, 2.60693976e+00],\n",
       "       [9.33132163e+00, 2.29902572e+00],\n",
       "       [1.80096872e+01, 5.53970238e+00],\n",
       "       [2.89281112e+00, 6.65366363e-01],\n",
       "       [3.54554993e+00, 3.23479140e+00],\n",
       "       [1.23829183e+01, 1.59375675e+00],\n",
       "       [3.87897931e+00, 2.04052390e+00],\n",
       "       [4.70600968e+00, 1.18755208e-01],\n",
       "       [3.91309454e-01, 3.90247192e+00],\n",
       "       [3.50265580e+00, 3.65483765e+00],\n",
       "       [8.38366559e+00, 1.28438495e+00],\n",
       "       [3.00695280e+00, 1.50893683e+00],\n",
       "       [3.99440425e-01, 3.93777115e+00],\n",
       "       [3.99947208e+00, 2.61708783e-01],\n",
       "       [1.09176490e+01, 2.08211354e+00],\n",
       "       [7.51947683e-01, 1.11800889e+01],\n",
       "       [5.84956068e+00, 2.76579043e+00],\n",
       "       [2.36273590e-01, 8.85131933e+00],\n",
       "       [1.01384708e+01, 1.05350300e+00],\n",
       "       [3.62759934e-01, 3.62895652e+00],\n",
       "       [1.08219849e+00, 3.90012562e+00],\n",
       "       [9.79042431e+00, 1.50359057e+00],\n",
       "       [1.18312447e+01, 1.73691702e+00],\n",
       "       [9.24154208e-01, 2.39500003e+00],\n",
       "       [6.44094028e+00, 2.93434747e-02],\n",
       "       [3.74833542e+00, 9.61523963e-01],\n",
       "       [7.67242976e+00, 1.29935596e+00],\n",
       "       [4.71877227e+00, 1.16877320e+00],\n",
       "       [4.85567744e-01, 3.27632863e+00],\n",
       "       [2.07995903e-01, 8.73811898e+00],\n",
       "       [9.33964872e+00, 1.93992620e+00],\n",
       "       [4.31529697e-01, 3.42283489e+00],\n",
       "       [9.63265667e-01, 2.34248274e+00],\n",
       "       [8.19500222e+00, 1.01140688e+00],\n",
       "       [8.68034253e-02, 4.89365725e+00],\n",
       "       [2.30990658e+00, 9.74578150e-01],\n",
       "       [5.39075630e+00, 3.20485383e+00],\n",
       "       [5.56540599e+00, 3.37522175e-02],\n",
       "       [5.63350142e+00, 4.46128625e+00],\n",
       "       [1.47912861e+00, 1.77306624e+00],\n",
       "       [7.51871250e-01, 2.99641153e+00],\n",
       "       [7.01607883e+00, 1.03935221e-01],\n",
       "       [4.00819968e+00, 3.78902293e-01],\n",
       "       [2.67677110e+00, 7.94080045e-01],\n",
       "       [9.75937583e+00, 1.37794801e+00],\n",
       "       [4.83713662e+00, 9.92641630e-02],\n",
       "       [6.64609013e+00, 1.04673697e+00],\n",
       "       [2.51060399e+00, 3.03509653e+00],\n",
       "       [1.96237251e+01, 4.29152492e+00],\n",
       "       [2.99940939e+00, 6.71017059e-01],\n",
       "       [5.59815952e-02, 5.16220594e+00],\n",
       "       [6.63490592e+00, 4.39775755e-02],\n",
       "       [4.10036085e+00, 1.26276047e+00],\n",
       "       [3.25180633e+00, 1.92555233e+00],\n",
       "       [3.51326469e+00, 5.19381661e-01],\n",
       "       [8.35983732e+00, 1.66160270e+00],\n",
       "       [1.04193011e+00, 2.26321492e+00],\n",
       "       [9.64605690e-02, 5.39890409e+00],\n",
       "       [8.24729405e-01, 2.63970460e+00],\n",
       "       [8.23679911e-01, 2.59159737e+00],\n",
       "       [2.92520612e+00, 7.31572376e-01],\n",
       "       [2.11898373e+00, 5.18374695e+00],\n",
       "       [1.15610339e+00, 2.15554156e+00],\n",
       "       [3.23985204e+00, 9.47400075e-01],\n",
       "       [1.34971517e+00, 3.72179426e+00],\n",
       "       [1.47234459e+01, 2.86638376e+00],\n",
       "       [3.44801076e-02, 6.52539149e+00],\n",
       "       [2.02128583e-01, 4.30815679e+00],\n",
       "       [7.87318725e+00, 1.37297127e-01],\n",
       "       [2.60751850e+00, 1.41087453e+00],\n",
       "       [1.08656563e+01, 7.66206688e-01],\n",
       "       [7.69841672e+00, 6.19063011e-01],\n",
       "       [1.18018550e+01, 2.30143644e+00],\n",
       "       [3.34090185e-01, 6.62795492e+00],\n",
       "       [6.35335598e+00, 2.12172019e+00],\n",
       "       [3.20050448e-01, 4.05956041e+00],\n",
       "       [2.73368134e+00, 8.47787977e-01],\n",
       "       [6.81029192e+00, 2.22675197e+00],\n",
       "       [9.37527480e+00, 1.27368086e+00],\n",
       "       [1.94948047e-01, 8.10473469e+00],\n",
       "       [1.31380995e+00, 2.19718117e+00],\n",
       "       [5.04064572e+00, 6.53459840e-01],\n",
       "       [7.80204046e+00, 1.40783040e-01],\n",
       "       [2.26699634e+00, 1.00898572e+00],\n",
       "       [9.45609742e+00, 2.31480643e+00],\n",
       "       [6.66414427e+00, 8.05493224e+00],\n",
       "       [4.62540350e+00, 1.47731780e+00],\n",
       "       [7.96520890e-01, 2.63353828e+00],\n",
       "       [1.93552678e+01, 5.17069335e+00],\n",
       "       [3.02785681e+00, 6.12103285e-01],\n",
       "       [6.28397315e+00, 0.00000000e+00],\n",
       "       [7.11529823e-02, 5.01924220e+00],\n",
       "       [1.15656175e+01, 5.95735994e+00],\n",
       "       [1.88321480e+00, 1.33742190e+00],\n",
       "       [3.36330514e+00, 2.26838100e+00],\n",
       "       [2.74605341e+00, 1.83747157e+00],\n",
       "       [1.42713082e+00, 1.73056000e+00],\n",
       "       [1.02183659e-02, 6.63598330e+00],\n",
       "       [3.93238705e+00, 2.91982247e+00],\n",
       "       [2.87226019e-02, 5.52854546e+00],\n",
       "       [1.07731115e-01, 4.86637123e+00],\n",
       "       [1.49733696e+00, 1.65505990e+00],\n",
       "       [5.60929415e+00, 4.51292184e-01],\n",
       "       [5.18962123e-02, 5.25620869e+00],\n",
       "       [7.44456870e+00, 6.86212486e+00],\n",
       "       [1.29846094e+00, 1.87827015e+00],\n",
       "       [6.32708144e-02, 5.09531071e+00],\n",
       "       [1.84601706e+01, 5.34528610e+00],\n",
       "       [8.85343614e+00, 7.38186174e-01],\n",
       "       [7.99267636e+00, 2.19333575e+00],\n",
       "       [3.76271610e+00, 2.27322171e+00],\n",
       "       [3.69508247e+00, 1.18803693e+01],\n",
       "       [6.84710943e-02, 5.04166868e+00],\n",
       "       [3.45582725e+00, 1.12467157e+01],\n",
       "       [6.93214956e+00, 4.16301764e-02],\n",
       "       [2.74986990e-01, 4.30166364e+00],\n",
       "       [5.83621634e-02, 5.13148995e+00],\n",
       "       [2.49758773e+00, 1.35378402e+00],\n",
       "       [6.90722042e-01, 3.39401505e+00],\n",
       "       [1.45214673e+01, 1.90989103e+00],\n",
       "       [3.29699791e+00, 8.17358759e-01],\n",
       "       [6.25309649e+00, 8.96065504e-01],\n",
       "       [7.49143686e+00, 2.09339906e+00],\n",
       "       [7.65568124e-02, 4.98137719e+00],\n",
       "       [8.35864023e-01, 2.60176909e+00],\n",
       "       [5.91740347e+00, 7.95969045e-01],\n",
       "       [1.46188395e+00, 1.68471264e+00],\n",
       "       [1.21281107e+01, 2.18346171e+00],\n",
       "       [2.56549395e-01, 4.00668818e+00],\n",
       "       [5.58820292e-01, 3.24400097e+00],\n",
       "       [2.59047092e+00, 8.05856339e-01],\n",
       "       [3.68897953e+00, 1.27498481e+00],\n",
       "       [5.89642401e+00, 6.87205135e+00],\n",
       "       [3.07558288e+00, 5.76268287e+00],\n",
       "       [7.10041004e+00, 1.13347473e+00],\n",
       "       [4.11096975e+00, 1.08146820e+00],\n",
       "       [5.27502359e-02, 6.57980255e+00],\n",
       "       [1.07114001e+01, 2.36488115e+00],\n",
       "       [5.44245987e+00, 3.42256608e-01],\n",
       "       [2.48493039e+00, 8.67946594e-01],\n",
       "       [2.91057720e+00, 6.46440450e-01],\n",
       "       [5.04777705e-02, 5.30803162e+00],\n",
       "       [5.82613768e-01, 3.34737773e+00],\n",
       "       [3.93668539e+00, 6.66514954e-01],\n",
       "       [1.65926752e+00, 4.64083055e+00],\n",
       "       [8.38488090e+00, 1.09059137e+00],\n",
       "       [9.41839442e-01, 2.36142667e+00],\n",
       "       [3.06645423e+00, 5.68383714e+00],\n",
       "       [2.62518593e+00, 9.58754342e-01],\n",
       "       [5.45140501e-01, 3.13018083e+00],\n",
       "       [1.05012422e+01, 8.45891872e-01],\n",
       "       [6.40632443e+00, 3.17335635e+00],\n",
       "       [2.81647308e+00, 1.13281379e+01],\n",
       "       [6.28782915e+00, 1.74281397e-01],\n",
       "       [6.53859615e-01, 2.88711829e+00],\n",
       "       [1.28620252e+00, 1.94412758e+00],\n",
       "       [7.33776231e+00, 1.08321963e+00],\n",
       "       [2.20942965e-01, 8.64762731e+00],\n",
       "       [3.67162922e+00, 3.75475185e-01],\n",
       "       [1.57930884e-01, 4.85796354e+00],\n",
       "       [6.12862375e-01, 3.15500583e+00],\n",
       "       [2.75574795e-01, 9.17544029e+00],\n",
       "       [2.30174714e-01, 4.39989842e+00],\n",
       "       [9.30455008e+00, 2.28296211e+00],\n",
       "       [5.75617384e+00, 1.76730324e-02],\n",
       "       [5.70433962e+00, 1.45188370e+00],\n",
       "       [3.99977349e-01, 3.67292795e+00],\n",
       "       [9.97309832e-01, 1.08802084e+01],\n",
       "       [3.76566203e+00, 9.18489616e-01],\n",
       "       [3.80616184e-01, 7.94038776e+00],\n",
       "       [2.06023404e-01, 4.21641981e+00],\n",
       "       [2.25783224e+01, 5.96055035e+00],\n",
       "       [7.16008547e+00, 7.49506439e-02],\n",
       "       [4.51073337e-01, 3.41725862e+00],\n",
       "       [2.68573451e+00, 1.85159986e+00],\n",
       "       [2.15705642e+00, 1.08455563e+00],\n",
       "       [7.26349221e-01, 2.80268830e+00],\n",
       "       [2.09449011e+01, 4.58791493e+00],\n",
       "       [1.16647799e+01, 1.44903656e+00],\n",
       "       [3.49809469e+00, 4.07891797e-01],\n",
       "       [3.13139460e+00, 5.58687207e+00],\n",
       "       [4.19341309e-01, 3.53535783e+00],\n",
       "       [8.22406957e-01, 2.56136766e+00],\n",
       "       [9.92806734e-03, 5.79642957e+00],\n",
       "       [8.11004819e+00, 4.85280753e-01],\n",
       "       [8.15271170e-01, 2.57245907e+00],\n",
       "       [1.18345417e+00, 2.04427210e+00],\n",
       "       [3.71981801e-01, 9.67960913e+00],\n",
       "       [6.92932377e-01, 2.83027111e+00],\n",
       "       [5.67950997e-01, 3.07837841e+00],\n",
       "       [1.01761720e+01, 5.59770665e-01],\n",
       "       [8.18182225e-01, 2.59690371e+00],\n",
       "       [7.57177404e+00, 1.58325284e+00],\n",
       "       [1.22322154e+00, 2.09704843e+00],\n",
       "       [2.84555145e+00, 6.72264357e-01],\n",
       "       [2.53568936e+00, 8.75926495e-01],\n",
       "       [1.72532315e+01, 2.75824306e+00],\n",
       "       [4.10437092e+00, 1.10185084e+00],\n",
       "       [1.75141199e+01, 4.57132691e+00],\n",
       "       [6.75184304e-02, 6.94003777e+00],\n",
       "       [7.61407784e-02, 7.73261602e+00],\n",
       "       [6.65392584e+00, 1.91377890e+00],\n",
       "       [5.87745394e+00, 1.25946388e+00],\n",
       "       [2.39351933e+00, 1.12434851e+00],\n",
       "       [3.71429091e+00, 3.37836905e-01],\n",
       "       [1.06771501e+01, 1.18704785e+00],\n",
       "       [6.29550310e-01, 2.95652195e+00],\n",
       "       [3.83044636e-02, 5.60574677e+00],\n",
       "       [5.74497418e+00, 6.17480524e-01],\n",
       "       [1.18673625e+00, 3.63723632e+00],\n",
       "       [1.19573279e+00, 2.01233221e+00],\n",
       "       [8.15354583e+00, 3.55777135e+00],\n",
       "       [8.46421261e+00, 1.25470819e+00],\n",
       "       [4.11269032e+00, 2.72177261e-01],\n",
       "       [8.89230216e+00, 1.80836119e+00],\n",
       "       [1.30635629e+01, 2.53813123e+00],\n",
       "       [1.45046680e+01, 4.26594177e+00],\n",
       "       [0.00000000e+00, 6.28397315e+00],\n",
       "       [2.60952419e+00, 8.69755833e-01],\n",
       "       [2.07273844e-02, 5.83178095e+00],\n",
       "       [1.82742797e-03, 6.42330670e+00],\n",
       "       [2.38155969e+00, 9.36320296e-01],\n",
       "       [4.54719534e-01, 3.53761086e+00],\n",
       "       [3.87882055e+00, 2.92900202e-01],\n",
       "       [1.52837698e+00, 1.62311288e+00],\n",
       "       [9.12723173e+00, 4.13500448e-01],\n",
       "       [3.90347555e+00, 7.82649554e-01],\n",
       "       [3.74865440e+00, 3.34286837e-01],\n",
       "       [1.72491781e+01, 3.18574696e+00],\n",
       "       [3.88584709e+00, 2.94124221e-01],\n",
       "       [2.29657479e+00, 3.01551885e+00],\n",
       "       [7.54721739e-01, 3.13196398e+00],\n",
       "       [8.09602483e+00, 2.06554805e+00],\n",
       "       [1.14606475e+00, 2.14145342e+00],\n",
       "       [1.94976281e+00, 1.51678313e+01],\n",
       "       [1.33045387e+01, 3.45189824e+00],\n",
       "       [2.42845084e-01, 4.12098839e+00],\n",
       "       [4.63059870e+00, 2.71784284e-01],\n",
       "       [3.88400150e+00, 3.37843140e+00],\n",
       "       [1.54492188e+00, 1.65799339e+00],\n",
       "       [1.14047090e+01, 9.46603934e-01],\n",
       "       [2.12514004e+00, 2.98420606e+00],\n",
       "       [2.19749040e+00, 1.20198086e+00],\n",
       "       [6.39593567e+00, 1.63031066e+00],\n",
       "       [5.21195122e+00, 5.14504615e-02],\n",
       "       [8.12439950e+00, 6.95655419e-01],\n",
       "       [2.22107119e-01, 8.71330672e+00],\n",
       "       [1.29678035e+00, 1.89010208e+00],\n",
       "       [3.68107320e-01, 3.61029937e+00],\n",
       "       [3.67285871e+00, 1.29161472e+00],\n",
       "       [6.41738685e-01, 2.96127149e+00],\n",
       "       [1.61425871e-01, 4.43797847e+00],\n",
       "       [2.87879487e-01, 4.30459375e+00],\n",
       "       [1.40831369e+01, 3.19408450e+00],\n",
       "       [1.49059500e+01, 1.87194379e+00],\n",
       "       [1.39359150e+01, 2.82880562e+00],\n",
       "       [9.83317181e+00, 5.26623519e-01],\n",
       "       [2.94467920e+00, 7.04149886e-01],\n",
       "       [1.65929235e+00, 1.48954622e+00],\n",
       "       [1.54366911e+01, 3.47603910e+00],\n",
       "       [1.16811572e+00, 2.13396850e+00],\n",
       "       [4.85141341e-01, 3.64854801e+00],\n",
       "       [5.06861163e+00, 1.15258717e+00],\n",
       "       [6.48025999e+00, 2.00726832e+00],\n",
       "       [1.65796633e+01, 2.90080348e+00],\n",
       "       [1.59863629e+01, 5.40222198e+00],\n",
       "       [5.34088183e+00, 1.71747213e+00],\n",
       "       [7.11560348e-01, 2.76667888e+00],\n",
       "       [6.66928649e+00, 7.27307764e-01],\n",
       "       [1.17989715e+00, 2.02172523e+00],\n",
       "       [9.48241560e-02, 7.73904087e+00],\n",
       "       [1.26248340e+01, 1.48962321e+00],\n",
       "       [5.04982765e+00, 2.58974260e+00],\n",
       "       [1.87547847e+00, 2.95392897e+00],\n",
       "       [5.09856031e+00, 1.87498513e+00],\n",
       "       [1.14842351e+00, 2.16522854e+00],\n",
       "       [6.71962309e+00, 2.53933159e+00],\n",
       "       [7.57154192e+00, 1.80428905e+00],\n",
       "       [1.76679022e-01, 4.70171552e+00],\n",
       "       [5.87432566e-01, 3.05882544e+00],\n",
       "       [2.86835231e-01, 3.90894756e+00],\n",
       "       [1.96910390e+00, 3.74859130e+00],\n",
       "       [3.50165473e+00, 8.53384079e-01],\n",
       "       [7.93187498e+00, 2.22460401e+00],\n",
       "       [1.72441463e+01, 2.82301121e+00],\n",
       "       [6.99950618e+00, 5.82168755e-02],\n",
       "       [3.81214226e-01, 3.58172839e+00],\n",
       "       [1.50740501e+00, 1.68094704e+00],\n",
       "       [1.66280392e+00, 1.48217861e+00],\n",
       "       [5.14149024e+00, 3.40699043e+00],\n",
       "       [5.18875959e+00, 1.63727679e-01],\n",
       "       [7.29531963e+00, 2.59429256e+00],\n",
       "       [3.30590206e-02, 5.40647472e+00],\n",
       "       [1.63854877e-01, 5.40529399e+00],\n",
       "       [6.33562855e+00, 8.10421571e-01],\n",
       "       [4.97495437e+00, 1.10631098e+00],\n",
       "       [5.09187930e+00, 1.87573668e-01],\n",
       "       [4.83803912e-01, 3.28471284e+00],\n",
       "       [3.35640188e+00, 2.06363090e+00],\n",
       "       [6.58384306e+00, 5.71993860e+00],\n",
       "       [1.50403423e+01, 3.51691625e+00],\n",
       "       [6.47336859e+00, 1.49516036e+00],\n",
       "       [2.15873914e+00, 2.72181684e+00],\n",
       "       [6.43659000e+00, 8.74099509e-01],\n",
       "       [2.33349995e+00, 1.02991408e+00],\n",
       "       [4.50691320e-02, 5.27932370e+00],\n",
       "       [1.04430505e+01, 1.64881497e+00],\n",
       "       [9.34635686e-03, 5.88149090e+00],\n",
       "       [3.64226854e+00, 3.64343239e-01],\n",
       "       [1.00479679e+01, 3.56741746e+00],\n",
       "       [1.43626691e+00, 3.65112290e+00],\n",
       "       [4.72664970e+00, 9.18922817e-01],\n",
       "       [2.43395076e+00, 9.04091515e-01],\n",
       "       [6.65962756e+00, 8.14763661e-01],\n",
       "       [6.84484619e-01, 2.85655586e+00],\n",
       "       [6.94463051e+00, 6.00669448e-01],\n",
       "       [8.79015737e+00, 2.29732381e-01],\n",
       "       [1.29007930e+01, 3.80514176e+00],\n",
       "       [3.27694777e+00, 1.24802399e+00],\n",
       "       [3.82941573e+00, 1.24101914e+00],\n",
       "       [1.14309452e+01, 2.67000338e+00],\n",
       "       [7.30626958e+00, 2.44698009e+00],\n",
       "       [1.71944851e+01, 2.94868152e+00],\n",
       "       [2.84682067e+00, 7.14339697e-01],\n",
       "       [3.29340946e-01, 3.97860506e+00],\n",
       "       [1.25810036e+00, 7.18603366e+00],\n",
       "       [1.07327702e+00, 7.16274380e+00],\n",
       "       [6.52254555e-02, 6.79915331e+00],\n",
       "       [6.61260413e-01, 3.23501140e+00],\n",
       "       [4.85895268e-02, 6.95539728e+00],\n",
       "       [3.11918080e+00, 8.29831615e-01],\n",
       "       [3.52124403e+00, 1.96596970e+00],\n",
       "       [4.73836531e+00, 1.09513220e+00],\n",
       "       [1.48594114e+00, 1.91204375e+00],\n",
       "       [1.55335748e+00, 3.48575218e+00],\n",
       "       [4.84624936e+00, 1.05030771e-01],\n",
       "       [4.20118711e+00, 1.02137395e+00],\n",
       "       [8.14981574e+00, 1.09700002e+00],\n",
       "       [3.98113440e+00, 8.18478355e-01],\n",
       "       [2.99088775e-02, 7.15814859e+00],\n",
       "       [8.30068368e+00, 2.41061134e+00],\n",
       "       [1.45956040e+00, 2.09089087e+00],\n",
       "       [4.79791521e+00, 4.66640802e+00],\n",
       "       [3.96691432e-01, 3.54743745e+00],\n",
       "       [1.70476418e-01, 6.58608675e+00],\n",
       "       [1.49425082e+01, 2.48981684e+00],\n",
       "       [4.62314352e+00, 2.22510684e-01],\n",
       "       [2.70629388e+00, 7.43642467e-01],\n",
       "       [1.22708647e-01, 5.56182886e+00],\n",
       "       [7.63340821e-01, 2.87922010e+00],\n",
       "       [1.49835271e+00, 1.66025250e+00],\n",
       "       [1.89129877e-01, 7.46038492e+00],\n",
       "       [1.85639275e+00, 1.30970904e+00],\n",
       "       [5.73008368e+00, 2.39727130e-01],\n",
       "       [9.39341863e-01, 2.36430834e+00],\n",
       "       [1.03957252e+00, 2.22713776e+00],\n",
       "       [5.14933764e-01, 9.83394648e+00],\n",
       "       [7.62598375e+00, 7.32725189e-01],\n",
       "       [5.66265578e+00, 2.58635775e+00],\n",
       "       [7.88375750e+00, 1.18767811e+00],\n",
       "       [1.06217356e+01, 2.64492872e+00],\n",
       "       [3.43027139e+00, 6.20229757e-01],\n",
       "       [5.04687140e+00, 1.39837858e+00],\n",
       "       [8.83106549e+00, 1.18749234e+00],\n",
       "       [1.42658488e+01, 2.40364460e+00]])"
      ]
     },
     "execution_count": 57,
     "metadata": {},
     "output_type": "execute_result"
    }
   ],
   "source": [
    "compute_d2 (points, centers_initial)"
   ]
  },
  {
   "cell_type": "code",
   "execution_count": 58,
   "metadata": {
    "deletable": false,
    "editable": false,
    "nbgrader": {
     "grade": true,
     "grade_id": "compute_d2_test",
     "locked": true,
     "points": 3,
     "schema_version": 1,
     "solution": false
    }
   },
   "outputs": [
    {
     "name": "stdout",
     "output_type": "stream",
     "text": [
      "\n",
      "(Passed!)\n"
     ]
    }
   ],
   "source": [
    "# Test cell: `compute_d2_test`\n",
    "\n",
    "centers_initial_testing = np.load(\"{}centers_initial_testing.npy\".format(DATA_PATH))\n",
    "compute_d2_soln = np.load(\"{}compute_d2_soln.npy\".format(DATA_PATH))\n",
    "\n",
    "S = compute_d2 (points, centers_initial_testing)\n",
    "assert (np.linalg.norm (S - compute_d2_soln, axis=1) <= (50.0 * np.finfo(float).eps)).all ()\n",
    "\n",
    "print(\"\\n(Passed!)\")"
   ]
  },
  {
   "cell_type": "markdown",
   "metadata": {
    "deletable": false,
    "editable": false,
    "nbgrader": {
     "grade": false,
     "grade_id": "cell-5b0f35e46de95e6c",
     "locked": true,
     "schema_version": 1,
     "solution": false
    }
   },
   "source": [
    "**Exercise 3** (2 points). Write a function that uses the (squared) distance matrix to assign a \"cluster label\" to each point.\n",
    "\n",
    "That is, consider the $m \\times k$ squared distance matrix $S$. For each point $i$, if $s_{i,j}$ is the minimum squared distance for point $i$, then the index $j$ is $i$'s cluster label. In other words, your function should return a (column) vector $y$ of length $m$ such that\n",
    "\n",
    "$$\n",
    "  y_i = \\underset{j \\in \\{0, \\ldots, k-1\\}}{\\operatorname{argmin}} s_{ij}.\n",
    "$$\n",
    "\n",
    "> Hint: Judicious use of Numpy's [`argmin()`](https://docs.scipy.org/doc/numpy/reference/generated/numpy.argmin.html) makes for a nice one-line solution."
   ]
  },
  {
   "cell_type": "code",
   "execution_count": 59,
   "metadata": {
    "nbgrader": {
     "grade": false,
     "grade_id": "assign_cluster_labels",
     "locked": false,
     "schema_version": 1,
     "solution": true
    }
   },
   "outputs": [
    {
     "name": "stdout",
     "output_type": "stream",
     "text": [
      "You found: [1, 0, 1]\n"
     ]
    }
   ],
   "source": [
    "def assign_cluster_labels(S):\n",
    "    ###\n",
    "    mins = []    \n",
    "    for i in S:\n",
    "        mins.append(np.argmin(i))\n",
    "    return mins\n",
    "    ###\n",
    "\n",
    "# Cluster labels:     0    1\n",
    "S_test1 = np.array([[0.3, 0.2],  # --> cluster 1\n",
    "                    [0.1, 0.5],  # --> cluster 0\n",
    "                    [0.4, 0.2]]) # --> cluster 1\n",
    "y_test1 = assign_cluster_labels(S_test1)\n",
    "print(\"You found:\", y_test1)\n",
    "\n",
    "assert (y_test1 == np.array([1, 0, 1])).all()"
   ]
  },
  {
   "cell_type": "code",
   "execution_count": 60,
   "metadata": {
    "deletable": false,
    "editable": false,
    "nbgrader": {
     "grade": true,
     "grade_id": "assign_cluster_labels_test",
     "locked": true,
     "points": 2,
     "schema_version": 1,
     "solution": false
    }
   },
   "outputs": [
    {
     "name": "stdout",
     "output_type": "stream",
     "text": [
      "\n",
      "(Passed!)\n"
     ]
    }
   ],
   "source": [
    "# Test cell: `assign_cluster_labels_test`\n",
    "\n",
    "S_test2 = np.load(\"{}assign_cluster_labels_S.npy\".format(DATA_PATH))\n",
    "y_test2_soln = np.load(\"{}assign_cluster_labels_soln.npy\".format(DATA_PATH))\n",
    "y_test2 = assign_cluster_labels(S_test2)\n",
    "assert (y_test2 == y_test2_soln).all()\n",
    "\n",
    "print(\"\\n(Passed!)\")"
   ]
  },
  {
   "cell_type": "markdown",
   "metadata": {
    "deletable": false,
    "editable": false,
    "nbgrader": {
     "grade": false,
     "grade_id": "cell-e1bb590c5d3080c8",
     "locked": true,
     "schema_version": 1,
     "solution": false
    }
   },
   "source": [
    "**Exercise 4** (2 points). Given a clustering (i.e., a set of points and assignment of labels), compute the center of each cluster."
   ]
  },
  {
   "cell_type": "code",
   "execution_count": 61,
   "metadata": {
    "collapsed": true,
    "nbgrader": {
     "grade": false,
     "grade_id": "update_centers",
     "locked": false,
     "schema_version": 1,
     "solution": true
    }
   },
   "outputs": [],
   "source": [
    "def update_centers(X, y):\n",
    "    # X[:m, :d] == m points, each of dimension d\n",
    "    # y[:m] == cluster labels\n",
    "    m, d = X.shape\n",
    "    k = max(y) + 1\n",
    "    assert m == len(y)\n",
    "    assert (min(y) >= 0)\n",
    "    \n",
    "    centers = np.empty((k, d))\n",
    "    for j in range(k):\n",
    "        # Compute the new center of cluster j,\n",
    "        # i.e., centers[j, :d].\n",
    "        ###\n",
    "        centers[j, :] = np.mean(X[y == j, :], axis=0)\n",
    "        ###\n",
    "    return centers"
   ]
  },
  {
   "cell_type": "code",
   "execution_count": 62,
   "metadata": {
    "deletable": false,
    "editable": false,
    "nbgrader": {
     "grade": true,
     "grade_id": "update_centers_test",
     "locked": true,
     "points": 2,
     "schema_version": 1,
     "solution": false
    }
   },
   "outputs": [
    {
     "name": "stdout",
     "output_type": "stream",
     "text": [
      "\n",
      "(Passed!)\n"
     ]
    }
   ],
   "source": [
    "# Test cell: `update_centers_test`\n",
    "\n",
    "y_test3 = np.load(\"{}y_test3.npy\".format(DATA_PATH))\n",
    "centers_test3_soln = np.load(\"{}centers_test3_soln.npy\".format(DATA_PATH))\n",
    "centers_test3 = update_centers(points, y_test3)\n",
    "\n",
    "delta_test3 = np.abs(centers_test3 - centers_test3_soln)\n",
    "assert (delta_test3 <= 2.0*len(centers_test3_soln)*np.finfo(float).eps).all()\n",
    "\n",
    "print(\"\\n(Passed!)\")"
   ]
  },
  {
   "cell_type": "markdown",
   "metadata": {
    "deletable": false,
    "editable": false,
    "nbgrader": {
     "grade": false,
     "grade_id": "cell-58f292d0402301a4",
     "locked": true,
     "schema_version": 1,
     "solution": false
    }
   },
   "source": [
    "**Exercise 5** (2 points). Given the squared distances, return the within-cluster sum of squares.\n",
    "\n",
    "In particular, your function should have the signature,\n",
    "\n",
    "```python\n",
    "    def WCSS(S):\n",
    "        ...\n",
    "```\n",
    "\n",
    "where `S` is an array of distances as might be computed from Exercise 2.\n",
    "\n",
    "For example, suppose `S` is defined as follows:\n",
    "\n",
    "```python\n",
    "    S = np.array([[0.3, 0.2],\n",
    "                  [0.1, 0.5],\n",
    "                  [0.4, 0.2]])\n",
    "```\n",
    "\n",
    "Then `WCSS(S) == 0.2 + 0.1 + 0.2 == 0.5.`\n",
    "\n",
    "> _Hint_: See [numpy.amin](https://docs.scipy.org/doc/numpy/reference/generated/numpy.amin.html#numpy.amin)."
   ]
  },
  {
   "cell_type": "code",
   "execution_count": 63,
   "metadata": {
    "nbgrader": {
     "grade": false,
     "grade_id": "WCSS",
     "locked": false,
     "schema_version": 1,
     "solution": true
    }
   },
   "outputs": [
    {
     "name": "stdout",
     "output_type": "stream",
     "text": [
      "S ==\n",
      " [[0.3 0.2]\n",
      " [0.1 0.5]\n",
      " [0.4 0.2]]\n",
      "\n",
      "WCSS(S) == 0.5\n"
     ]
    }
   ],
   "source": [
    "def WCSS(S):\n",
    "    ###\n",
    "    return np.sum(np.amin(S, axis=1))\n",
    "    ###\n",
    "    \n",
    "# Quick test:\n",
    "print(\"S ==\\n\", S_test1)\n",
    "WCSS_test1 = WCSS(S_test1)\n",
    "print(\"\\nWCSS(S) ==\", WCSS(S_test1))"
   ]
  },
  {
   "cell_type": "code",
   "execution_count": 64,
   "metadata": {
    "deletable": false,
    "editable": false,
    "nbgrader": {
     "grade": true,
     "grade_id": "WCSS_test",
     "locked": true,
     "points": 2,
     "schema_version": 1,
     "solution": false
    }
   },
   "outputs": [
    {
     "name": "stdout",
     "output_type": "stream",
     "text": [
      "\n",
      "(Passed!)\n"
     ]
    }
   ],
   "source": [
    "# Test cell: `WCSS_test`\n",
    "\n",
    "assert np.abs(WCSS_test1 - 0.5) <= 3.0*np.finfo(float).eps, \"WCSS(S_test1) should be close to 0.5, not {}\".format(WCSS_test1)\n",
    "print(\"\\n(Passed!)\")"
   ]
  },
  {
   "cell_type": "markdown",
   "metadata": {
    "deletable": false,
    "editable": false,
    "nbgrader": {
     "grade": false,
     "grade_id": "cell-ff3d3e7eb16d77c0",
     "locked": true,
     "schema_version": 1,
     "solution": false
    }
   },
   "source": [
    "Lastly, here is a function to check whether the centers have \"moved,\" given two instances of the center values. It accounts for the fact that the order of centers may have changed."
   ]
  },
  {
   "cell_type": "code",
   "execution_count": 65,
   "metadata": {
    "collapsed": true,
    "deletable": false,
    "editable": false,
    "nbgrader": {
     "grade": false,
     "grade_id": "cell-84eaf8eb026c9273",
     "locked": true,
     "schema_version": 1,
     "solution": false
    }
   },
   "outputs": [],
   "source": [
    "def has_converged(old_centers, centers):\n",
    "    return set([tuple(x) for x in old_centers]) == set([tuple(x) for x in centers])"
   ]
  },
  {
   "cell_type": "markdown",
   "metadata": {
    "deletable": false,
    "editable": false,
    "nbgrader": {
     "grade": false,
     "grade_id": "cell-5cd038fe20813ba7",
     "locked": true,
     "schema_version": 1,
     "solution": false
    }
   },
   "source": [
    "**Exercise 6** (3 points). Put all of the preceding building blocks together to implement Lloyd's $k$-means algorithm."
   ]
  },
  {
   "cell_type": "code",
   "execution_count": 68,
   "metadata": {
    "nbgrader": {
     "grade": false,
     "grade_id": "cell-7d55bc2221f76601",
     "locked": false,
     "schema_version": 1,
     "solution": true
    }
   },
   "outputs": [
    {
     "ename": "ValueError",
     "evalue": "could not broadcast input array from shape (375,2) into shape (2,)",
     "output_type": "error",
     "traceback": [
      "\u001b[0;31m---------------------------------------------------------------------------\u001b[0m",
      "\u001b[0;31mValueError\u001b[0m                                Traceback (most recent call last)",
      "\u001b[0;32m<ipython-input-68-494f4ec1c8ef>\u001b[0m in \u001b[0;36m<module>\u001b[0;34m\u001b[0m\n\u001b[1;32m     24\u001b[0m     \u001b[0;32mreturn\u001b[0m \u001b[0mlabels\u001b[0m\u001b[0;34m\u001b[0m\u001b[0;34m\u001b[0m\u001b[0m\n\u001b[1;32m     25\u001b[0m \u001b[0;34m\u001b[0m\u001b[0m\n\u001b[0;32m---> 26\u001b[0;31m \u001b[0mclustering\u001b[0m \u001b[0;34m=\u001b[0m \u001b[0mkmeans\u001b[0m\u001b[0;34m(\u001b[0m\u001b[0mpoints\u001b[0m\u001b[0;34m,\u001b[0m \u001b[0mk\u001b[0m\u001b[0;34m,\u001b[0m \u001b[0mstarting_centers\u001b[0m\u001b[0;34m=\u001b[0m\u001b[0mpoints\u001b[0m\u001b[0;34m[\u001b[0m\u001b[0;34m[\u001b[0m\u001b[0;36m0\u001b[0m\u001b[0;34m,\u001b[0m \u001b[0;36m187\u001b[0m\u001b[0;34m]\u001b[0m\u001b[0;34m,\u001b[0m \u001b[0;34m:\u001b[0m\u001b[0;34m]\u001b[0m\u001b[0;34m)\u001b[0m\u001b[0;34m\u001b[0m\u001b[0;34m\u001b[0m\u001b[0m\n\u001b[0m",
      "\u001b[0;32m<ipython-input-68-494f4ec1c8ef>\u001b[0m in \u001b[0;36mkmeans\u001b[0;34m(X, k, starting_centers, max_steps)\u001b[0m\n\u001b[1;32m     15\u001b[0m         \u001b[0mS\u001b[0m \u001b[0;34m=\u001b[0m \u001b[0mcompute_d2\u001b[0m\u001b[0;34m(\u001b[0m\u001b[0mX\u001b[0m\u001b[0;34m,\u001b[0m \u001b[0mcenters\u001b[0m\u001b[0;34m)\u001b[0m\u001b[0;34m\u001b[0m\u001b[0;34m\u001b[0m\u001b[0m\n\u001b[1;32m     16\u001b[0m         \u001b[0mlabels\u001b[0m \u001b[0;34m=\u001b[0m \u001b[0massign_cluster_labels\u001b[0m\u001b[0;34m(\u001b[0m\u001b[0mS\u001b[0m\u001b[0;34m)\u001b[0m\u001b[0;34m\u001b[0m\u001b[0;34m\u001b[0m\u001b[0m\n\u001b[0;32m---> 17\u001b[0;31m         \u001b[0mcenters\u001b[0m \u001b[0;34m=\u001b[0m \u001b[0mupdate_centers\u001b[0m\u001b[0;34m(\u001b[0m\u001b[0mX\u001b[0m\u001b[0;34m,\u001b[0m \u001b[0mlabels\u001b[0m\u001b[0;34m)\u001b[0m\u001b[0;34m\u001b[0m\u001b[0;34m\u001b[0m\u001b[0m\n\u001b[0m\u001b[1;32m     18\u001b[0m         \u001b[0;31m###\u001b[0m\u001b[0;34m\u001b[0m\u001b[0;34m\u001b[0m\u001b[0;34m\u001b[0m\u001b[0m\n\u001b[1;32m     19\u001b[0m         \u001b[0;31m# DON'T MODIFY BELOW\u001b[0m\u001b[0;34m\u001b[0m\u001b[0;34m\u001b[0m\u001b[0;34m\u001b[0m\u001b[0m\n",
      "\u001b[0;32m<ipython-input-61-9c23c93b0cf0>\u001b[0m in \u001b[0;36mupdate_centers\u001b[0;34m(X, y)\u001b[0m\n\u001b[1;32m     12\u001b[0m         \u001b[0;31m# i.e., centers[j, :d].\u001b[0m\u001b[0;34m\u001b[0m\u001b[0;34m\u001b[0m\u001b[0;34m\u001b[0m\u001b[0m\n\u001b[1;32m     13\u001b[0m         \u001b[0;31m###\u001b[0m\u001b[0;34m\u001b[0m\u001b[0;34m\u001b[0m\u001b[0;34m\u001b[0m\u001b[0m\n\u001b[0;32m---> 14\u001b[0;31m         \u001b[0mcenters\u001b[0m\u001b[0;34m[\u001b[0m\u001b[0mj\u001b[0m\u001b[0;34m,\u001b[0m \u001b[0;34m:\u001b[0m\u001b[0;34m]\u001b[0m \u001b[0;34m=\u001b[0m \u001b[0mnp\u001b[0m\u001b[0;34m.\u001b[0m\u001b[0mmean\u001b[0m\u001b[0;34m(\u001b[0m\u001b[0mX\u001b[0m\u001b[0;34m[\u001b[0m\u001b[0my\u001b[0m \u001b[0;34m==\u001b[0m \u001b[0mj\u001b[0m\u001b[0;34m,\u001b[0m \u001b[0;34m:\u001b[0m\u001b[0;34m]\u001b[0m\u001b[0;34m,\u001b[0m \u001b[0maxis\u001b[0m\u001b[0;34m=\u001b[0m\u001b[0;36m0\u001b[0m\u001b[0;34m)\u001b[0m\u001b[0;34m\u001b[0m\u001b[0;34m\u001b[0m\u001b[0m\n\u001b[0m\u001b[1;32m     15\u001b[0m         \u001b[0;31m###\u001b[0m\u001b[0;34m\u001b[0m\u001b[0;34m\u001b[0m\u001b[0;34m\u001b[0m\u001b[0m\n\u001b[1;32m     16\u001b[0m     \u001b[0;32mreturn\u001b[0m \u001b[0mcenters\u001b[0m\u001b[0;34m\u001b[0m\u001b[0;34m\u001b[0m\u001b[0m\n",
      "\u001b[0;31mValueError\u001b[0m: could not broadcast input array from shape (375,2) into shape (2,)"
     ]
    }
   ],
   "source": [
    "def kmeans(X, k,\n",
    "           starting_centers=None,\n",
    "           max_steps=np.inf):\n",
    "    if starting_centers is None:\n",
    "        centers = init_centers(X, k)\n",
    "    else:\n",
    "        centers = starting_centers\n",
    "        \n",
    "    converged = False\n",
    "    labels = np.zeros(len(X))\n",
    "    i = 1\n",
    "    while (not converged) and (i <= max_steps):\n",
    "        old_centers = centers\n",
    "        ###\n",
    "        S = compute_d2(X, centers) \n",
    "        labels = assign_cluster_labels(S)\n",
    "        centers = update_centers(X, labels)\n",
    "        ###\n",
    "        # DON'T MODIFY BELOW\n",
    "        converged = has_converged(old_centers, centers)\n",
    "        print (\"iteration\", i, \"WCSS = \", WCSS (S))\n",
    "        i += 1\n",
    "    print(i)\n",
    "    return labels\n",
    "\n",
    "clustering = kmeans(points, k, starting_centers=points[[0, 187], :])"
   ]
  },
  {
   "cell_type": "markdown",
   "metadata": {},
   "source": [
    "Let's visualize the results."
   ]
  },
  {
   "cell_type": "code",
   "execution_count": 67,
   "metadata": {
    "deletable": false,
    "editable": false,
    "nbgrader": {
     "grade": true,
     "grade_id": "kmeans_test",
     "locked": true,
     "points": 3,
     "schema_version": 1,
     "solution": false
    }
   },
   "outputs": [
    {
     "ename": "NameError",
     "evalue": "name 'clustering' is not defined",
     "output_type": "error",
     "traceback": [
      "\u001b[0;31m---------------------------------------------------------------------------\u001b[0m",
      "\u001b[0;31mNameError\u001b[0m                                 Traceback (most recent call last)",
      "\u001b[0;32m<ipython-input-67-49f682a24c23>\u001b[0m in \u001b[0;36m<module>\u001b[0;34m\u001b[0m\n\u001b[1;32m      1\u001b[0m \u001b[0;31m# Test cell: `kmeans_test`\u001b[0m\u001b[0;34m\u001b[0m\u001b[0;34m\u001b[0m\u001b[0;34m\u001b[0m\u001b[0m\n\u001b[1;32m      2\u001b[0m \u001b[0;34m\u001b[0m\u001b[0m\n\u001b[0;32m----> 3\u001b[0;31m \u001b[0mdf\u001b[0m\u001b[0;34m[\u001b[0m\u001b[0;34m'clustering'\u001b[0m\u001b[0;34m]\u001b[0m \u001b[0;34m=\u001b[0m \u001b[0mclustering\u001b[0m\u001b[0;34m\u001b[0m\u001b[0;34m\u001b[0m\u001b[0m\n\u001b[0m\u001b[1;32m      4\u001b[0m \u001b[0mcenters\u001b[0m \u001b[0;34m=\u001b[0m \u001b[0mupdate_centers\u001b[0m\u001b[0;34m(\u001b[0m\u001b[0mpoints\u001b[0m\u001b[0;34m,\u001b[0m \u001b[0mclustering\u001b[0m\u001b[0;34m)\u001b[0m\u001b[0;34m\u001b[0m\u001b[0;34m\u001b[0m\u001b[0m\n\u001b[1;32m      5\u001b[0m \u001b[0mmake_scatter_plot\u001b[0m\u001b[0;34m(\u001b[0m\u001b[0mdf\u001b[0m\u001b[0;34m,\u001b[0m \u001b[0mhue\u001b[0m\u001b[0;34m=\u001b[0m\u001b[0;34m'clustering'\u001b[0m\u001b[0;34m,\u001b[0m \u001b[0mcenters\u001b[0m\u001b[0;34m=\u001b[0m\u001b[0mcenters\u001b[0m\u001b[0;34m)\u001b[0m\u001b[0;34m\u001b[0m\u001b[0;34m\u001b[0m\u001b[0m\n",
      "\u001b[0;31mNameError\u001b[0m: name 'clustering' is not defined"
     ]
    }
   ],
   "source": [
    "# Test cell: `kmeans_test`\n",
    "\n",
    "df['clustering'] = clustering\n",
    "centers = update_centers(points, clustering)\n",
    "make_scatter_plot(df, hue='clustering', centers=centers)\n",
    "\n",
    "n_matches = count_matches(df['label'], df['clustering'])\n",
    "print(n_matches,\n",
    "      \"matches out of\",\n",
    "      len(df), \"possible\",\n",
    "      \"(~ {:.1f}%)\".format(100.0 * n_matches / len(df)))\n",
    "\n",
    "assert n_matches >= 320"
   ]
  },
  {
   "cell_type": "markdown",
   "metadata": {
    "deletable": false,
    "editable": false,
    "nbgrader": {
     "grade": false,
     "locked": true,
     "solution": false
    }
   },
   "source": [
    "**Applying k-means to an image.** In this section of the notebook, you will apply k-means to an image, for the purpose of doing a \"stylized recoloring\" of it. (You can view this example as a primitive form of [artistic style transfer](http://genekogan.com/works/style-transfer/), which state-of-the-art methods today [accomplish using neural networks](https://medium.com/artists-and-machine-intelligence/neural-artistic-style-transfer-a-comprehensive-look-f54d8649c199).)\n",
    "\n",
    "In particlar, let's take an input image and cluster pixels based on the similarity of their colors. Maybe it can become the basis of your own [Instagram filter](https://blog.hubspot.com/marketing/instagram-filters)!"
   ]
  },
  {
   "cell_type": "code",
   "execution_count": null,
   "metadata": {
    "collapsed": true,
    "deletable": false,
    "editable": false,
    "nbgrader": {
     "grade": false,
     "locked": true,
     "solution": false
    }
   },
   "outputs": [],
   "source": [
    "from PIL import Image\n",
    "from matplotlib.pyplot import imshow\n",
    "%matplotlib inline\n",
    "\n",
    "def read_img(path):\n",
    "    \"\"\"\n",
    "    Read image and store it as an array, given the image path. \n",
    "    Returns the 3 dimensional image array.\n",
    "    \"\"\"\n",
    "    img = Image.open(path)\n",
    "    img_arr = np.array(img, dtype='int32')\n",
    "    img.close()\n",
    "    return img_arr\n",
    "\n",
    "def display_image(arr):\n",
    "    \"\"\"\n",
    "    display the image\n",
    "    input : 3 dimensional array\n",
    "    \"\"\"\n",
    "    arr = arr.astype(dtype='uint8')\n",
    "    img = Image.fromarray(arr, 'RGB')\n",
    "    imshow(np.asarray(img))\n",
    "    \n",
    "\n",
    "img_arr = read_img(f\"{DATA_PATH}/football.bmp\")\n",
    "display_image(img_arr)\n",
    "print(\"Shape of the matrix obtained by reading the image\")\n",
    "print(img_arr.shape)"
   ]
  },
  {
   "cell_type": "markdown",
   "metadata": {
    "deletable": false,
    "editable": false,
    "nbgrader": {
     "grade": false,
     "locked": true,
     "solution": false
    }
   },
   "source": [
    "Note that the image is stored as a \"3-D\" matrix. It is important to understand how matrices help to store a image. Each pixel corresponds to a intensity value for Red, Green and Blue. If you note the properties of the image, its resolution is 620 x 412. The image width is 620 pixels and height is 412 pixels, and each pixel has three values - **R**, **G**, **B**. This makes it a 412 x 620 x 3 matrix."
   ]
  },
  {
   "cell_type": "markdown",
   "metadata": {
    "deletable": false,
    "editable": false,
    "nbgrader": {
     "grade": false,
     "locked": true,
     "solution": false
    }
   },
   "source": [
    "**Exercise 7** (1 point). Write some code to *reshape* the matrix into \"img_reshaped\" by transforming \"img_arr\" from a \"3-D\" matrix to a flattened \"2-D\" matrix which has 3 columns corresponding to the RGB values for each pixel. In this form, the flattened matrix must contain all pixels and their corresponding RGB intensity values. Remember in the previous modules we had discussed a C type indexing style and a Fortran type indexing style. In this problem, refer to the C type indexing style. The numpy reshape function may be of help here."
   ]
  },
  {
   "cell_type": "code",
   "execution_count": null,
   "metadata": {
    "collapsed": true
   },
   "outputs": [],
   "source": [
    "###\n",
    "img_reshaped = img_arr.reshape(-1, img_arr.shape[-1])\n",
    "###\n"
   ]
  },
  {
   "cell_type": "code",
   "execution_count": null,
   "metadata": {
    "collapsed": true,
    "deletable": false,
    "editable": false,
    "nbgrader": {
     "grade": true,
     "grade_id": "reshape_test",
     "locked": true,
     "points": "1",
     "solution": false
    }
   },
   "outputs": [],
   "source": [
    "# Test cell - 'reshape_test'\n",
    "r, c, l = img_arr.shape\n",
    "# The reshaped image is a flattened '2-dimensional' matrix\n",
    "assert len(img_reshaped.shape) == 2\n",
    "r_reshaped, c_reshaped = img_reshaped.shape\n",
    "assert r * c * l == r_reshaped * c_reshaped\n",
    "assert c_reshaped == 3\n",
    "print(\"Passed\")"
   ]
  },
  {
   "cell_type": "markdown",
   "metadata": {
    "deletable": false,
    "editable": false,
    "nbgrader": {
     "grade": false,
     "locked": true,
     "solution": false
    }
   },
   "source": [
    "**Exercise 8** (1 point). Now use the k-means function that you wrote above to divide the image in **3** clusters. The result would be a vector named labels, which assigns the label to each pixel."
   ]
  },
  {
   "cell_type": "code",
   "execution_count": null,
   "metadata": {
    "collapsed": true
   },
   "outputs": [],
   "source": [
    "###\n",
    "labels = kmeans(img_reshaped,  k=3, starting_centers=None, max_steps=20)\n",
    "###\n"
   ]
  },
  {
   "cell_type": "code",
   "execution_count": null,
   "metadata": {
    "collapsed": true,
    "deletable": false,
    "editable": false,
    "nbgrader": {
     "grade": true,
     "grade_id": "labels",
     "locked": true,
     "points": "1",
     "solution": false
    }
   },
   "outputs": [],
   "source": [
    "# Test cell - 'labels'\n",
    "assert len(labels) == r_reshaped\n",
    "assert set(labels) == {0, 1, 2}\n",
    "print(\"\\nPassed!\")"
   ]
  },
  {
   "cell_type": "markdown",
   "metadata": {
    "deletable": false,
    "editable": false,
    "nbgrader": {
     "grade": false,
     "locked": true,
     "solution": false
    }
   },
   "source": [
    "**Exercise 9** (2 points). Write code to calculate the mean of each cluster and store it in a dictionary, named centers, as label:array(cluster_center). For 3 clusters, the dictionary should have three keys as the labels and their corresponding cluster centers as values, i.e. {0:array(center0), 1: array(center1), 2:array(center2)}."
   ]
  },
  {
   "cell_type": "code",
   "execution_count": null,
   "metadata": {
    "collapsed": true,
    "nbgrader": {
     "grade": false,
     "locked": false,
     "solution": false
    }
   },
   "outputs": [],
   "source": [
    "###\n",
    "ind = np.column_stack((img_reshaped, labels))\n",
    "centers = {}\n",
    "for i in set(labels):\n",
    "    c = ind[ind[:,3] == i].mean(axis=0)\n",
    "    centers[i] = c[:3]\n",
    "###\n"
   ]
  },
  {
   "cell_type": "markdown",
   "metadata": {
    "deletable": false,
    "editable": false,
    "nbgrader": {
     "grade": false,
     "locked": true,
     "solution": false
    }
   },
   "source": [
    "Below, we have written code to generate a matrix \"img_clustered\" of the same dimensions as img_reshaped, where each pixel is replaced by the cluster center to which it belongs."
   ]
  },
  {
   "cell_type": "code",
   "execution_count": null,
   "metadata": {
    "collapsed": true,
    "deletable": false,
    "editable": false,
    "nbgrader": {
     "grade": true,
     "grade_id": "cluster_means",
     "locked": true,
     "points": "2",
     "solution": false
    }
   },
   "outputs": [],
   "source": [
    "print(\"Free points here! But you need to implement the above section correctly for you to see what we want you to see later.\")\n",
    "print(\"\\nPassed!\")"
   ]
  },
  {
   "cell_type": "code",
   "execution_count": null,
   "metadata": {
    "collapsed": true,
    "deletable": false,
    "editable": false,
    "nbgrader": {
     "grade": false,
     "locked": true,
     "solution": false
    }
   },
   "outputs": [],
   "source": [
    "img_clustered = np.array([centers[i] for i in labels])"
   ]
  },
  {
   "cell_type": "markdown",
   "metadata": {
    "deletable": false,
    "editable": false,
    "nbgrader": {
     "grade": false,
     "locked": true,
     "solution": false
    }
   },
   "source": [
    "Let us display the clustered image and see how kmeans works on the image."
   ]
  },
  {
   "cell_type": "code",
   "execution_count": null,
   "metadata": {
    "collapsed": true,
    "deletable": false,
    "editable": false,
    "nbgrader": {
     "grade": false,
     "locked": true,
     "solution": false
    }
   },
   "outputs": [],
   "source": [
    "r, c, l = img_arr.shape\n",
    "img_disp = np.reshape(img_clustered, (r, c, l), order=\"C\")\n",
    "display_image(img_disp)"
   ]
  },
  {
   "cell_type": "markdown",
   "metadata": {
    "deletable": false,
    "editable": false,
    "nbgrader": {
     "grade": false,
     "locked": true,
     "solution": false
    }
   },
   "source": [
    "You can visually inspect the original image and the clustered image to get a sense of what kmeans is doing here. You can also try to vary the number of clusters to see how the output image changes"
   ]
  },
  {
   "cell_type": "markdown",
   "metadata": {
    "deletable": false,
    "editable": false,
    "nbgrader": {
     "grade": false,
     "locked": true,
     "solution": false
    }
   },
   "source": [
    "## Built-in $k$-means\n",
    "\n",
    "The preceding exercises walked you through how to implement $k$-means, mostly as an exercise in how to translate data analysis algorithms into efficient Numpy-based code. But as you might have imagined, there are existing implementations as well! The following shows you how to use Scipy's implementation, which should yield similar results. If you are asked to use $k$-means in a future lab (or exam!), you can use this one."
   ]
  },
  {
   "cell_type": "code",
   "execution_count": null,
   "metadata": {
    "collapsed": true,
    "deletable": false,
    "editable": false,
    "nbgrader": {
     "grade": false,
     "locked": true,
     "solution": false
    }
   },
   "outputs": [],
   "source": [
    "from scipy.cluster import vq"
   ]
  },
  {
   "cell_type": "code",
   "execution_count": null,
   "metadata": {
    "collapsed": true,
    "deletable": false,
    "editable": false,
    "nbgrader": {
     "grade": false,
     "locked": true,
     "solution": false
    }
   },
   "outputs": [],
   "source": [
    "# `distortion` below is the similar to WCSS.\n",
    "# It is called distortion in the Scipy documentation\n",
    "# since clustering can be used in compression.\n",
    "k = 2\n",
    "centers_vq, distortion_vq = vq.kmeans(points, k)\n",
    "\n",
    "# vq return the clustering (assignment of group for each point)\n",
    "# based on the centers obtained by the kmeans function.\n",
    "# _ here means ignore the second return value\n",
    "clustering_vq, _ = vq.vq(points, centers_vq)\n",
    "\n",
    "print(\"Centers:\\n\", centers_vq)\n",
    "print(\"\\nCompare with your method:\\n\", centers, \"\\n\")\n",
    "print(\"Distortion (WCSS):\", distortion_vq)\n",
    "\n",
    "df['clustering_vq'] = clustering_vq\n",
    "make_scatter_plot(df, hue='clustering_vq', centers=centers_vq)\n",
    "\n",
    "n_matches_vq = count_matches(df['label'], df['clustering_vq'])\n",
    "print(n_matches_vq,\n",
    "      \"matches out of\",\n",
    "      len(df), \"possible\",\n",
    "      \"(~ {:.1f}%)\".format(100.0 * n_matches_vq / len(df)))"
   ]
  }
 ],
 "metadata": {
  "anaconda-cloud": [],
  "celltoolbar": "Create Assignment",
  "kernelspec": {
   "display_name": "Python 3.8",
   "language": "python",
   "name": "python38"
  },
  "language_info": {
   "codemirror_mode": {
    "name": "ipython",
    "version": 3
   },
   "file_extension": ".py",
   "mimetype": "text/x-python",
   "name": "python",
   "nbconvert_exporter": "python",
   "pygments_lexer": "ipython3",
   "version": "3.8.7"
  }
 },
 "nbformat": 4,
 "nbformat_minor": 1
}
