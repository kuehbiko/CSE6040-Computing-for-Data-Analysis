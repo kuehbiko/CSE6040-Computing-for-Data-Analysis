{
 "cells": [
  {
   "cell_type": "markdown",
   "metadata": {
    "deletable": false,
    "editable": false,
    "nbgrader": {
     "grade": false,
     "locked": true,
     "solution": false
    },
    "tags": [
     "notebook_header"
    ]
   },
   "source": [
    "# Part 1 of 2: Processing an HTML file\n",
    "\n",
    "\n",
    "**Exercise ordering:** Each exercise builds logically on previous exercises, but you may solve them in any order. That is, if you can't solve an exercise, you can still move on and try the next one. Use this to your advantage, as the exercises are **not** necessarily ordered in terms of difficulty. Higher point values generally indicate more difficult exercises. \n",
    "\n",
    "**Demo cells:** Code cells starting with the comment `### define demo inputs` load results from prior exercises applied to the entire data set and use those to build demo inputs. These must be run for subsequent demos to work properly, but they do not affect the test cells. The data loaded in these cells may be rather large (at least in terms of human readability). You are free to print or otherwise use Python to explore them, but we did not print them in the starter code.\n",
    "\n",
    "**Debugging your code:** Right before each exercise test cell, there is a block of text explaining the variables available to you for debugging. You may use these to test your code and can print/display them as needed (careful when printing large objects, you may want to print the head or chunks of rows at a time).\n",
    "\n",
    "**Exercise point breakdown:**\n",
    "\n",
    "- Exercise 0: 5 points\n",
    "\n",
    "**Final reminders:** \n",
    "\n",
    "- Submit after **every exercise**\n",
    "- Review the generated grade report after you submit to see what errors were returned\n",
    "- Stay calm, skip problems as needed, and take short breaks at your leisure\n"
   ]
  },
  {
   "cell_type": "markdown",
   "metadata": {
    "deletable": false,
    "editable": false,
    "nbgrader": {
     "grade": false,
     "locked": true,
     "solution": false
    },
    "tags": [
     "topic_intro"
    ]
   },
   "source": [
    "## Topic Introduction\n",
    "\n",
    "One of the richest sources of information is [the Web](http://www.computerhistory.org/revolution/networking/19/314)! In this notebook, we ask you to use string processing and regular expressions to mine a web page, which is stored in HTML format.\n",
    "\n",
    "> **Note 0.** The exercises below involve processing of HTML files. However, you don't need to know anything specific about HTML; you can solve (and we have solved) all of these exercises assuming only that the data is a semi-structured string, amenable to simple string manipulation and regular expression processing techniques. In Notebook 6 (optional), you'll see a different method that employs the [Beautiful Soup module](https://www.crummy.com/software/BeautifulSoup/bs4/doc/).\n",
    ">\n",
    "> **Note 1.** Following Note 0, there are some outspoken people who believe you should never use regular expressions on HTML. Your instructor finds these arguments to be overly pedantic. For an entertaining take on the subject, see [this blog post](https://blog.codinghorror.com/parsing-html-the-cthulhu-way/).\n",
    ">\n",
    "> **Note 2.** The data below is a snapshot from an older version of the Yelp! site. Therefore, you should complete the exercises using the data we've provided, rather than downloading a copy directly from Yelp!."
   ]
  },
  {
   "cell_type": "markdown",
   "metadata": {
    "deletable": false,
    "editable": false,
    "nbgrader": {
     "grade": false,
     "locked": true,
     "solution": false
    }
   },
   "source": [
    "**The data: Yelp! reviews.** The data you will work with is a snapshot of a recent search on the [Yelp! site](https://yelp.com) for the best fried chicken restaurants in Atlanta. That snapshot is hosted here: https://cse6040.gatech.edu/datasets/yelp-example\n",
    "\n",
    "If you go ahead and open that site, you'll see that it contains a ranked list of places:\n",
    "\n",
    "![Top 10 Fried Chicken Spots in ATL as of September 12, 2017](https://cse6040.gatech.edu/datasets/yelp-example/ranked-list-snapshot.png)"
   ]
  },
  {
   "cell_type": "markdown",
   "metadata": {
    "deletable": false,
    "editable": false,
    "nbgrader": {
     "grade": false,
     "locked": true,
     "solution": false
    }
   },
   "source": [
    "**Your task.** In this part of this assignment, we'd like you to write some code to extract this list."
   ]
  },
  {
   "cell_type": "markdown",
   "metadata": {
    "deletable": false,
    "editable": false,
    "nbgrader": {
     "grade": false,
     "locked": true,
     "solution": false
    }
   },
   "source": [
    "## Getting the data\n",
    "\n",
    "First things first: you need an HTML file. The following Python code opens a copy of the sample Yelp! page from above."
   ]
  },
  {
   "cell_type": "code",
   "execution_count": 4,
   "metadata": {
    "deletable": false,
    "editable": false,
    "nbgrader": {
     "grade": false,
     "locked": true,
     "solution": false
    },
    "tags": [
     "global_imports"
    ]
   },
   "outputs": [
    {
     "name": "stdout",
     "output_type": "stream",
     "text": [
      "'yelp.htm' is ready!\n"
     ]
    }
   ],
   "source": [
    "### Global Imports\n",
    "\n",
    "# Use this cell to import anything common, e.g. numpy, pandas, sqlite3\n",
    "# Use this cell to bring in the starter data\n",
    "import hashlib\n",
    "\n",
    "with open('resource/asnlib/publicdata/yelp.htm', 'r', encoding='utf-8') as f:\n",
    "    yelp_html = f.read().encode(encoding='utf-8')\n",
    "    checksum = hashlib.md5(yelp_html).hexdigest()\n",
    "    assert checksum == \"4a74a0ee9cefee773e76a22a52d45a8e\", \"Downloaded file has incorrect checksum!\"\n",
    "    \n",
    "print(\"'yelp.htm' is ready!\")"
   ]
  },
  {
   "cell_type": "markdown",
   "metadata": {
    "deletable": false,
    "editable": false,
    "nbgrader": {
     "grade": false,
     "locked": true,
     "solution": false
    }
   },
   "source": [
    "**Viewing the raw HTML in your web browser.** The file you just downloaded is the raw HTML version of the data described previously. Before moving on, you should go back to that site and use your web browser to view the HTML source for the web page. Do that now to get an idea of what is in that file.\n",
    "\n",
    "> If you don't know how to view the page source in your browser, try the instructions on [this site](http://www.wikihow.com/View-Source-Code)."
   ]
  },
  {
   "cell_type": "markdown",
   "metadata": {
    "deletable": false,
    "editable": false,
    "nbgrader": {
     "grade": false,
     "locked": true,
     "solution": false
    }
   },
   "source": [
    "**Reading the HTML file into a Python string.** Let's also open the file in Python and read its contents into a string named, `yelp_html`."
   ]
  },
  {
   "cell_type": "code",
   "execution_count": 5,
   "metadata": {},
   "outputs": [
    {
     "name": "stdout",
     "output_type": "stream",
     "text": [
      "*** type(yelp_html) == <class 'str'> ***\n",
      "*** Contents (first 1000 characters) ***\n",
      "<!DOCTYPE html>\n",
      "<!-- saved from url=(0079)https://www.yelp.com/search?find_desc=fried+chicken&find_loc=Atlanta%2C+GA&ns=1 -->\n",
      "<html xmlns:fb=\"http://www.facebook.com/2008/fbml\" class=\"js gr__yelp_com\" lang=\"en\"><!--<![endif]--><head data-component-bound=\"true\"><meta http-equiv=\"Content-Type\" content=\"text/html; charset=UTF-8\"><link type=\"text/css\" rel=\"stylesheet\" href=\"./Best Fried chicken in Atlanta, GA - Yelp_files/css\"><style type=\"text/css\">.gm-style .gm-style-cc span,.gm-style .gm-style-cc a,.gm-style .gm-style-mtc div{font-size:10px}\n",
      "</style><style type=\"text/css\">@media print {  .gm-style .gmnoprint, .gmnoprint {    display:none  }}@media screen {  .gm-style .gmnoscreen, .gmnoscreen {    display:none  }}</style><style type=\"text/css\">.gm-style-pbc{transition:opacity ease-in-out;background-color:rgba(0,0,0,0.45);text-align:center}.gm-style-pbt{font-size:22px;color:white;font-family:Roboto,Arial,sans-serif;position:relative;margin:0;top:50%;-webkit-transform:translateY(-50%);-ms- ...\n"
     ]
    }
   ],
   "source": [
    "with open('resource/asnlib/publicdata/yelp.htm', 'r', encoding='utf-8') as yelp_file:\n",
    "    yelp_html = yelp_file.read()\n",
    "    \n",
    "# Print first few hundred characters of this string:\n",
    "print(\"*** type(yelp_html) == {} ***\".format(type(yelp_html)))\n",
    "n = 1000\n",
    "print(\"*** Contents (first {} characters) ***\\n{} ...\".format(n, yelp_html[:n]))"
   ]
  },
  {
   "cell_type": "markdown",
   "metadata": {
    "deletable": false,
    "editable": false,
    "nbgrader": {
     "grade": false,
     "locked": true,
     "solution": false
    }
   },
   "source": [
    "Oy, what a mess! It will be great to have some code read and process the information contained within this file."
   ]
  },
  {
   "cell_type": "markdown",
   "metadata": {
    "deletable": false,
    "editable": false,
    "nbgrader": {
     "grade": false,
     "locked": true,
     "solution": false
    },
    "tags": [
     "exercise_text"
    ]
   },
   "source": [
    "## Exercise (5 points): Extracting the ranking\n",
    "\n",
    "Create a new function that will return a variable named `rankings`, which is a list of dictionaries set up as follows:\n",
    "\n",
    "* `rankings[i]` is a dictionary corresponding to the restaurant whose rank is `i+1`. For example, from the screenshot above, `rankings[0]` should be a dictionary with information about Gus's World Famous Fried Chicken.\n",
    "* Each dictionary, `rankings[i]`, should have these keys:\n",
    "    * `rankings[i]['name']`: The name of the restaurant, a string.\n",
    "    * `rankings[i]['stars']`: The star rating, as a string, e.g., `'4.5'`, `'4.0'`\n",
    "    * `rankings[i]['numrevs']`: The number of reviews, as an **integer.**\n",
    "    * `rankings[i]['price']`: The price range, as dollar signs, e.g., `'$'`, `'$$'`, `'$$$'`, or `'$$$$'`.\n",
    "    \n",
    "Of course, since the current topic is regular expressions, you might try to apply them (possibly combined with other string manipulation methods) find the particular patterns that yield the desired information."
   ]
  },
  {
   "cell_type": "code",
   "execution_count": 6,
   "metadata": {
    "deletable": false,
    "editable": false,
    "nbgrader": {
     "grade": false,
     "locked": true,
     "solution": false
    },
    "tags": [
     "demo_data"
    ]
   },
   "outputs": [],
   "source": [
    "### Define demo inputs\n",
    "demo_str_ex0 = yelp_html"
   ]
  },
  {
   "cell_type": "markdown",
   "metadata": {
    "deletable": false,
    "editable": false,
    "nbgrader": {
     "grade": false,
     "locked": true,
     "solution": false
    },
    "tags": [
     "demo_output_md"
    ]
   },
   "source": [
    "<!-- Expected demo output text block -->\n",
    "The demo included in the solution cell below should display the following output:\n",
    "```\n",
    "extract_ranking(demo_str_ex0) ->\n",
    "\n",
    "[{'name': 'Gus’s World Famous Fried Chicken',\n",
    "  'stars': '4.0',\n",
    "  'numrevs': 549,\n",
    "  'price': '$$'},\n",
    " {'name': 'South City Kitchen - Midtown',\n",
    "  'stars': '4.5',\n",
    "  'numrevs': 1777,\n",
    "  'price': '$$'},\n",
    " {'name': 'Mary Mac’s Tea Room',\n",
    "  'stars': '4.0',\n",
    "  'numrevs': 2241,\n",
    "  'price': '$$'},\n",
    " {'name': 'Busy Bee Cafe', 'stars': '4.0', 'numrevs': 481, 'price': '$$'},\n",
    " {'name': 'Richards’ Southern Fried',\n",
    "  'stars': '4.0',\n",
    "  'numrevs': 108,\n",
    "  'price': '$$'},\n",
    " {'name': 'Greens &amp; Gravy', 'stars': '3.5', 'numrevs': 93, 'price': '$$'},\n",
    " {'name': 'Colonnade Restaurant',\n",
    "  'stars': '4.0',\n",
    "  'numrevs': 350,\n",
    "  'price': '$$'},\n",
    " {'name': 'South City Kitchen Buckhead',\n",
    "  'stars': '4.5',\n",
    "  'numrevs': 248,\n",
    "  'price': '$$'},\n",
    " {'name': 'Poor Calvin’s', 'stars': '4.5', 'numrevs': 1558, 'price': '$$'},\n",
    " {'name': 'Rock’s Chicken &amp; Fries',\n",
    "  'stars': '4.0',\n",
    "  'numrevs': 67,\n",
    "  'price': '$'}]\n",
    "```\n",
    "<!-- Include any shout outs here -->"
   ]
  },
  {
   "cell_type": "code",
   "execution_count": 29,
   "metadata": {
    "tags": [
     "exercise_solution"
    ]
   },
   "outputs": [
    {
     "data": {
      "text/plain": [
       "[{'name': 'Gus’s World Famous Fried Chicken',\n",
       "  'stars': '4.0',\n",
       "  'numrevs': 549,\n",
       "  'price': '$$'},\n",
       " {'name': 'South City Kitchen - Midtown',\n",
       "  'stars': '4.5',\n",
       "  'numrevs': 1777,\n",
       "  'price': '$$'},\n",
       " {'name': 'Mary Mac’s Tea Room',\n",
       "  'stars': '4.0',\n",
       "  'numrevs': 2241,\n",
       "  'price': '$$'},\n",
       " {'name': 'Busy Bee Cafe', 'stars': '4.0', 'numrevs': 481, 'price': '$$'},\n",
       " {'name': 'Richards’ Southern Fried',\n",
       "  'stars': '4.0',\n",
       "  'numrevs': 108,\n",
       "  'price': '$$'},\n",
       " {'name': 'Greens &amp; Gravy', 'stars': '3.5', 'numrevs': 93, 'price': '$$'},\n",
       " {'name': 'Colonnade Restaurant',\n",
       "  'stars': '4.0',\n",
       "  'numrevs': 350,\n",
       "  'price': '$$'},\n",
       " {'name': 'South City Kitchen Buckhead',\n",
       "  'stars': '4.5',\n",
       "  'numrevs': 248,\n",
       "  'price': '$$'},\n",
       " {'name': 'Poor Calvin’s', 'stars': '4.5', 'numrevs': 1558, 'price': '$$'},\n",
       " {'name': 'Rock’s Chicken &amp; Fries',\n",
       "  'stars': '4.0',\n",
       "  'numrevs': 67,\n",
       "  'price': '$'}]"
      ]
     },
     "execution_count": 29,
     "metadata": {},
     "output_type": "execute_result"
    }
   ],
   "source": [
    "### Exercise 0 solution\n",
    "def extract_ranking(yelp_html):\n",
    "    ###\n",
    "    import re\n",
    "    from collections import defaultdict\n",
    "\n",
    "    stars = []\n",
    "    name = []\n",
    "    numrevs = []\n",
    "    price = []\n",
    "    rankings = []\n",
    "    \n",
    "    yelp_html2 = yelp_html.split('<span class=\"indexed-biz-name\">')\n",
    "    yelp_html3 = yelp_html2[1:]\n",
    "    for i in yelp_html3:\n",
    "        stars_pattern = re.compile(r'\\d.\\d star rating')\n",
    "        name_pattern = re.compile('(\\\"\\>\\<span\\>)(.*?)(\\<\\/span\\>)')\n",
    "        numrevs_pattern = re.compile('([0-9]{1,4})( reviews)')\n",
    "        price_pattern = re.compile('(\\${1,5})')\n",
    "        \n",
    "        stars_iter = re.findall(stars_pattern, i)\n",
    "        name_iter = re.findall(name_pattern, i)\n",
    "        numrevs_iter = re.findall(numrevs_pattern, i)\n",
    "        price_iter = re.findall(price_pattern, i)\n",
    "        \n",
    "        \n",
    "        stars.append(stars_iter[0][:3])\n",
    "        name.append(name_iter[0][1])\n",
    "        numrevs.append(numrevs_iter[0][0])\n",
    "        price.append(price_iter[0])\n",
    "\n",
    "\n",
    "    complete_list = list(zip(name, stars, numrevs, price))\n",
    "    \n",
    "    for i,j in enumerate(complete_list):\n",
    "        d = {\n",
    "             'name':complete_list[i][0], \n",
    "             'stars': complete_list[i][1],\n",
    "             'numrevs':int(complete_list[i][2]),\n",
    "             'price':complete_list[i][3]\n",
    "            }\n",
    "    \n",
    "        rankings.append(d)\n",
    "    \n",
    "\n",
    "\n",
    "    return rankings\n",
    "    ###\n",
    "    \n",
    "### demo function call\n",
    "extract_ranking(demo_str_ex0)"
   ]
  },
  {
   "cell_type": "markdown",
   "metadata": {
    "deletable": false,
    "editable": false,
    "nbgrader": {
     "grade": false,
     "locked": true,
     "solution": false
    },
    "tags": [
     "test_data_boilerplate"
    ]
   },
   "source": [
    "<!-- Test Cell Boilerplate -->\n",
    "The cell below will test your solution for Exercise 0. The testing variables will be available for debugging under the following names in a dictionary format.\n",
    "- `input_vars` - Input variables for your solution. \n",
    "- `original_input_vars` - Copy of input variables from prior to running your solution. These _should_ be the same as `input_vars` - otherwise the inputs were modified by your solution.\n",
    "- `returned_output_vars` - Outputs returned by your solution.\n",
    "- `true_output_vars` - The expected output. This _should_ \"match\" `returned_output_vars` based on the question requirements - otherwise, your solution is not returning the correct output. "
   ]
  },
  {
   "cell_type": "code",
   "execution_count": 30,
   "metadata": {
    "deletable": false,
    "editable": false,
    "nbgrader": {
     "grade": true,
     "grade_id": "ex0",
     "locked": true,
     "points": "5",
     "solution": false
    },
    "tags": []
   },
   "outputs": [
    {
     "name": "stdout",
     "output_type": "stream",
     "text": [
      "Passed! Please submit.\n"
     ]
    }
   ],
   "source": [
    "### test_cell_ex0\n",
    "from tester_fw.testers import Tester\n",
    "\n",
    "conf = {\n",
    "    'case_file':'tc_0', \n",
    "    'func': extract_ranking, # replace this with the function defined above\n",
    "    'inputs':{ # input config dict. keys are parameter names\n",
    "        'yelp_html':{\n",
    "            'dtype':'str', # data type of param.\n",
    "            'check_modified':True,\n",
    "        }\n",
    "    },\n",
    "    'outputs':{\n",
    "        'output_0':{\n",
    "            'index':0,\n",
    "            'dtype':'list',\n",
    "            'check_dtype': True,\n",
    "            'check_col_dtypes': True, # Ignored if dtype is not df\n",
    "            'check_col_order': True, # Ignored if dtype is not df\n",
    "            'check_row_order': True, # Ignored if dtype is not df\n",
    "            'check_column_type': True, # Ignored if dtype is not df\n",
    "            'float_tolerance': 10 ** (-6)\n",
    "        }\n",
    "    }\n",
    "}\n",
    "tester = Tester(conf, key=b'bcdBk1WLcJ7DmbnNvGz65Oub0ZpaNa1bnbT-5L_G0Yk=', path='resource/asnlib/publicdata/')\n",
    "for _ in range(10):\n",
    "    try:\n",
    "        tester.run_test()\n",
    "        (input_vars, original_input_vars, returned_output_vars, true_output_vars) = tester.get_test_vars()\n",
    "    except:\n",
    "        (input_vars, original_input_vars, returned_output_vars, true_output_vars) = tester.get_test_vars()\n",
    "        raise\n",
    "\n",
    "print('Passed! Please submit.')"
   ]
  },
  {
   "cell_type": "markdown",
   "metadata": {
    "deletable": false,
    "editable": false,
    "nbgrader": {
     "grade": false,
     "locked": true,
     "solution": false
    },
    "tags": [
     "fin"
    ]
   },
   "source": [
    "**Fin!** This cell marks the end of Part 1. Don't forget to save, restart and rerun all cells, and submit it. When you are done, proceed to Part 2."
   ]
  }
 ],
 "metadata": {
  "celltoolbar": "Edit Metadata",
  "interpreter": {
   "hash": "f2b38b6e01547e8f771d473ea2b8718fd0728eea782e4c924ed8783f739d4a6c"
  },
  "kernelspec": {
   "display_name": "Python 3.8",
   "language": "python",
   "name": "python38"
  },
  "language_info": {
   "codemirror_mode": {
    "name": "ipython",
    "version": 3
   },
   "file_extension": ".py",
   "mimetype": "text/x-python",
   "name": "python",
   "nbconvert_exporter": "python",
   "pygments_lexer": "ipython3",
   "version": "3.8.7"
  }
 },
 "nbformat": 4,
 "nbformat_minor": 5
}
